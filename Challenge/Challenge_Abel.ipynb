{
 "cells": [
  {
   "cell_type": "code",
   "execution_count": 1,
   "id": "4cdde5f6",
   "metadata": {},
   "outputs": [],
   "source": [
    "import numpy as np\n",
    "import pandas as pd\n",
    "\n",
    "import seaborn as sns\n",
    "import matplotlib.pyplot as plt\n",
    "\n",
    "import os\n",
    "\n",
    "import statsmodels\n",
    "\n",
    "from sklearn.model_selection import StratifiedKFold, cross_val_predict\n",
    "from sklearn.model_selection import KFold\n",
    "from sklearn.ensemble import RandomForestClassifier\n",
    "from sklearn.metrics import f1_score\n",
    "from sklearn.metrics import accuracy_score\n",
    "from sklearn.neighbors import KNeighborsClassifier\n",
    "from sklearn.model_selection import GridSearchCV, train_test_split\n",
    "from sklearn.tree import DecisionTreeClassifier\n",
    "from sklearn.metrics import roc_curve, auc\n",
    "from sklearn.metrics import confusion_matrix\n",
    "from sklearn.preprocessing import StandardScaler\n",
    "from sklearn.decomposition import PCA\n",
    "from sklearn.metrics import classification_report\n",
    "from sklearn.metrics import precision_score, recall_score, f1_score, make_scorer\n",
    "from sklearn.ensemble import GradientBoostingClassifier\n",
    "import pickle\n",
    "from sklearn import svm\n",
    "from sklearn.ensemble import VotingClassifier, RandomForestClassifier\n",
    "from sklearn.linear_model import LogisticRegression\n",
    "from sklearn.svm import SVC\n",
    "from sklearn.model_selection import train_test_split\n",
    "from sklearn.metrics import accuracy_score\n",
    "from sklearn.ensemble import AdaBoostClassifier\n",
    "from sklearn.utils import class_weight\n",
    "from imblearn.over_sampling import RandomOverSampler\n",
    "from imblearn.under_sampling import RandomUnderSampler\n",
    "from imblearn.pipeline import Pipeline\n",
    "from imblearn.under_sampling import ClusterCentroids"
   ]
  },
  {
   "cell_type": "code",
   "execution_count": 2,
   "id": "0d45a56a",
   "metadata": {},
   "outputs": [],
   "source": [
    "feature_names = np.loadtxt('/Users/borosabel/Documents/Uni/ML&Pattern Classification/UE/ML-PatterClassification/python/feature_names.txt', dtype=str).T\n",
    "root_dir = \"/Users/borosabel/Documents/Uni/ML&Pattern Classification/UE/ML-PatterClassification/python\"\n",
    "test_files_dir = \"/Users/borosabel/Documents/Uni/ML&Pattern Classification/UE/ML-PatterClassification/python_test\"\n",
    "test_file_names = ['test00', 'test01', 'test02', 'test03', 'test04', 'test05', 'test06', 'test07', 'test08', 'test09', 'test10', 'test11', 'test12', 'test13', 'test14', 'test15']\n",
    "labels = {'cowpig1':2, 'eueowl1':4, 'tawowl1':6, 'eucdov':3, 'grswoo':5, 'comcuc':1, 'other':0}\n",
    "directories = ['cowpig1', 'eueowl1', 'tawowl1', 'eucdov', 'grswoo', 'comcuc']\n",
    "\n",
    "sns.set_palette(\"Paired\")\n",
    "\n",
    "gbrd_features = ['raw_contrast_mean_3', 'cln_contrast_mean_3', 'raw_melspect_std_6', 'cln_mfcc_mean_0', 'cln_contrast_mean_4', 'raw_mfcc_std_0', 'cln_melspect_mean_5', 'cln_melspect_mean_4', 'zcr_mean', 'raw_mfcc_d_std_0', 'cln_melspect_mean_7', 'raw_mfcc_mean_12', 'raw_mfcc_mean_10', 'raw_contrast_std_3', 'raw_mfcc_mean_15', 'raw_mfcc_mean_16', 'raw_mfcc_mean_1', 'raw_melspect_std_3', 'raw_melspect_std_8', 'raw_melspect_std_5', 'raw_energy_std', 'raw_mfcc_mean_9']"
   ]
  },
  {
   "cell_type": "code",
   "execution_count": 3,
   "id": "d0dbefb5",
   "metadata": {},
   "outputs": [],
   "source": [
    "REVENUES = np.asarray(\n",
    "        [[ 0.05, -0.2 , -0.2 , -0.2 , -0.2 , -0.2 , -0.2 ],\n",
    "         [-0.25,  1.  , -0.3 , -0.1 , -0.1 , -0.1 , -0.1 ],\n",
    "         [-0.02, -0.1 ,  1.  , -0.1 , -0.1 , -0.1 , -0.1 ],\n",
    "         [-0.25, -0.1 , -0.3 ,  1.  , -0.1 , -0.1 , -0.1 ],\n",
    "         [-0.25, -0.1 , -0.3 , -0.1 ,  1.  , -0.1 , -0.1 ],\n",
    "         [-0.25, -0.1 , -0.3 , -0.1 , -0.1 ,  1.  , -0.1 ],\n",
    "         [-0.25, -0.1 , -0.3 , -0.1 , -0.1 , -0.1 ,  1.  ]])"
   ]
  },
  {
   "cell_type": "code",
   "execution_count": 4,
   "id": "48c9165b",
   "metadata": {},
   "outputs": [],
   "source": [
    "def cost_function(y_true, y_pred, cost_matrix):\n",
    "    total_cost = 0\n",
    "    for i in range(len(y_true)):\n",
    "        true_label = int(y_true[i])\n",
    "        pred_label = int(y_pred[i])\n",
    "        total_cost += cost_matrix[true_label][pred_label]\n",
    "    return total_cost"
   ]
  },
  {
   "cell_type": "markdown",
   "id": "1d88aaf9",
   "metadata": {},
   "source": [
    "<h2>Helper functions</h2>"
   ]
  },
  {
   "cell_type": "code",
   "execution_count": 5,
   "id": "31a3120a",
   "metadata": {},
   "outputs": [],
   "source": [
    "def get_all_feature_files_path(directory_path):\n",
    "    \"\"\"\n",
    "    Input: ONE full path to the directory ex: 'user/uni/ML/cowpig1'\n",
    "    Returns a list of all the feature file paths in the given directory\n",
    "    \n",
    "    \"\"\"\n",
    "    file_names = os.listdir(directory_path)\n",
    "    file_paths = [os.path.join(directory_path, file_name) for file_name in file_names if '.labels' not in file_name]\n",
    "    file_paths = [file_path for file_path in file_paths if os.path.isfile(file_path)]\n",
    "    return file_paths"
   ]
  },
  {
   "cell_type": "code",
   "execution_count": 6,
   "id": "3bb6f2f6",
   "metadata": {},
   "outputs": [],
   "source": [
    "def train_val_split_on_files(directory, test_ratio=0.2):\n",
    "    \"\"\"\n",
    "    Input: ONE directory name ex: ['comcuc1']\n",
    "    Returns back a list of files as a tuple (train_set, validation_set) split in according to test_ratio\n",
    "    \"\"\"\n",
    "    for dir_ in directory:\n",
    "        current_dir = root_dir + '/' + dir_\n",
    "        file_paths = get_all_feature_files_path(current_dir)\n",
    "        train_set, validation_set = train_test_split(file_paths, test_size=test_ratio)\n",
    "    return train_set, validation_set"
   ]
  },
  {
   "cell_type": "code",
   "execution_count": 7,
   "id": "b9afa54a",
   "metadata": {},
   "outputs": [],
   "source": [
    "def clear_label_file(data, labels, decrease_null=False):\n",
    "    '''\n",
    "    Input: numpy array of the labels and data\n",
    "    Returns: numpy array of the data and labels but clears the labels where the annotators aggreement wasn't\n",
    "             100% in case the majority vote was 0.\n",
    "    '''\n",
    "    rows_to_delete = []\n",
    "    for idx, row in enumerate(labels):\n",
    "        if((row[0] == 0) and (np.sum(row) > 0)) :\n",
    "            rows_to_delete.append(idx)\n",
    "            \n",
    "    if(decrease_null == True):\n",
    "        counter = 25\n",
    "        for idx, row in enumerate(labels):\n",
    "            if((row[0] == 0) and (idx not in rows_to_delete) and (counter > 0)) :\n",
    "                rows_to_delete.append(idx)\n",
    "                counter -= 1\n",
    "            \n",
    "    labels_copy = np.delete(labels, rows_to_delete, axis=0)\n",
    "    data_copy = np.delete(data, rows_to_delete, axis=0)\n",
    "    return data_copy, labels_copy"
   ]
  },
  {
   "cell_type": "code",
   "execution_count": 8,
   "id": "314157b3",
   "metadata": {},
   "outputs": [],
   "source": [
    "def load_list_of_files(list_of_files: list):\n",
    "    \"\"\"\n",
    "    Input: List of file names with full path, ideally the output of the train_val_split_on_files function.\n",
    "    Returns two dataframe, the features and the labels according to the majority voteing.\n",
    "    \"\"\"\n",
    "    all_files_in_dir = np.empty((0, 548))\n",
    "    all_labels_in_dir = np.empty((0, 1))\n",
    "    \n",
    "    for file in list_of_files:\n",
    "        corresponding_label_file = file.replace('.npy', '.labels.npy')\n",
    "        \n",
    "        data = np.load(file)\n",
    "        labels = np.load(corresponding_label_file)\n",
    "        data, labels = clear_label_file(data, labels, False)\n",
    "        all_files_in_dir = np.concatenate((all_files_in_dir, data))\n",
    "        all_labels_in_dir = np.concatenate((all_labels_in_dir, labels[:, :1]))\n",
    "        \n",
    "    X = pd.DataFrame(all_files_in_dir, columns = feature_names)\n",
    "    y = pd.DataFrame(all_labels_in_dir, columns=[\"label\"])\n",
    "    \n",
    "    return X, y"
   ]
  },
  {
   "cell_type": "code",
   "execution_count": 9,
   "id": "13054db0",
   "metadata": {},
   "outputs": [],
   "source": [
    "def get_all_files_from_all_dir():\n",
    "    \"\"\"\n",
    "    Returns all the training data, training labels, validation data and validation labels as a dataframe.\n",
    "    \"\"\"\n",
    "    cowpig_train_files, cowpig_val_files = train_val_split_on_files(['cowpig1'], 0.2)\n",
    "    eueowl1_train_files, eueowl1_val_files = train_val_split_on_files(['eueowl1'], 0.2)\n",
    "    tawowl1_train_files, tawowl1_val_files = train_val_split_on_files(['tawowl1'], 0.2)\n",
    "    eucdov_train_files, eucdov_val_files = train_val_split_on_files(['eucdov'], 0.2)\n",
    "    grswoo_train_files, grswoo_val_files = train_val_split_on_files(['grswoo'], 0.2)\n",
    "    comcuc_train_files, comcuc_val_files = train_val_split_on_files(['comcuc'], 0.2)\n",
    "    \n",
    "    cowpig_X_train, cowpig_Y_train = load_list_of_files(cowpig_train_files)\n",
    "    eueowl1_train, eueowl1_Y_train = load_list_of_files(eueowl1_train_files)\n",
    "    tawowl1_X_train, tawowl1_Y_train = load_list_of_files(tawowl1_train_files)\n",
    "    eucdov_X_train, eucdov_Y_train = load_list_of_files(eucdov_train_files)\n",
    "    grswoo_X_train, grswoo_Y_train = load_list_of_files(grswoo_train_files)\n",
    "    comcuc_X_train, comcuc_Y_train = load_list_of_files(comcuc_train_files)\n",
    "    \n",
    "    cowpig_X_val, cowpig_Y_val = load_list_of_files(cowpig_val_files)\n",
    "    eueowl1_X_val, eueowl1_Y_val = load_list_of_files(eueowl1_val_files)\n",
    "    tawowl1_X_val, tawowl1_Y_val = load_list_of_files(tawowl1_val_files)\n",
    "    eucdov_X_val, eucdov_Y_val = load_list_of_files(eucdov_val_files)\n",
    "    grswoo_X_val, grswoo_Y_val = load_list_of_files(grswoo_val_files)\n",
    "    comcuc_X_val, comcuc_Y_val = load_list_of_files(comcuc_val_files)\n",
    "\n",
    "    all_train_data = np.concatenate((cowpig_X_train, eueowl1_train, tawowl1_X_train, eucdov_X_train, grswoo_X_train, comcuc_X_train))\n",
    "    all_val_data = np.concatenate((cowpig_X_val, eueowl1_X_val, tawowl1_X_val, eucdov_X_val, grswoo_X_val, comcuc_X_val))\n",
    "    all_train_labels = np.concatenate((cowpig_Y_train, eueowl1_Y_train, tawowl1_Y_train, eucdov_Y_train, grswoo_Y_train, comcuc_Y_train))\n",
    "    all_val_labels = np.concatenate((cowpig_Y_val, eueowl1_Y_val, tawowl1_Y_val, eucdov_Y_val, grswoo_Y_val, comcuc_Y_val))\n",
    "    \n",
    "    return all_train_data, all_val_data, all_train_labels, all_val_labels"
   ]
  },
  {
   "cell_type": "code",
   "execution_count": 10,
   "id": "e31dbd69",
   "metadata": {},
   "outputs": [],
   "source": [
    "def evaluate_and_create_submission_file(important_features, model):\n",
    "    \"\"\"\n",
    "    Input: the features which you used for the training set and the trained model\n",
    "    Returns a dataframe in the format of the accepted submission.\n",
    "    \"\"\"\n",
    "    header = ['test00'] + [str(i/10000) for i in range(3000)]\n",
    "    submission_df = pd.DataFrame(columns=header)\n",
    "    submission_df['test00'] = test_file_names\n",
    "    for i, test_file in enumerate(test_file_names):\n",
    "        data = np.load(test_files_dir + '/' + test_file + '.npy')\n",
    "        df = pd.DataFrame(data, columns=feature_names)\n",
    "        df = df[important_features]\n",
    "        predictions = model.predict(df)\n",
    "        pred = [int(p) for p in predictions]\n",
    "        submission_df.iloc[i, 1:] = pred\n",
    "    return submission_df"
   ]
  },
  {
   "cell_type": "code",
   "execution_count": 11,
   "id": "73f53eeb",
   "metadata": {},
   "outputs": [],
   "source": [
    "def sampling_strategy(X, y, n_samples, t='majority'):\n",
    "    target_classes = ''\n",
    "    if t == 'majority':\n",
    "        target_classes = y.value_counts() > n_samples\n",
    "    elif t == 'minority':\n",
    "        target_classes = y.value_counts() < n_samples\n",
    "    tc = target_classes[target_classes == True].index\n",
    "    #target_classes_all = y.value_counts().index\n",
    "    sampling_strategy = {}\n",
    "    for target in tc:\n",
    "        sampling_strategy[target] = n_samples\n",
    "    return sampling_strategy"
   ]
  },
  {
   "cell_type": "code",
   "execution_count": 12,
   "id": "2001467c",
   "metadata": {},
   "outputs": [],
   "source": [
    "all_train_data, all_val_data, all_train_labels, all_val_labels = get_all_files_from_all_dir()\n",
    "all_train_data = pd.DataFrame(all_train_data, columns=feature_names)\n",
    "all_val_data = pd.DataFrame(all_val_data, columns=feature_names)\n",
    "all_train_labels = pd.DataFrame(all_train_labels, columns=['label'])\n",
    "all_val_labels = pd.DataFrame(all_val_labels, columns=['label'])"
   ]
  },
  {
   "cell_type": "code",
   "execution_count": 13,
   "id": "1fedcd35",
   "metadata": {},
   "outputs": [],
   "source": [
    "all_train_data = all_train_data[gbrd_features]\n",
    "all_val_data = all_val_data[gbrd_features]"
   ]
  },
  {
   "cell_type": "code",
   "execution_count": 22,
   "id": "61dcedd5",
   "metadata": {},
   "outputs": [
    {
     "name": "stdout",
     "output_type": "stream",
     "text": [
      "label\n",
      "0.0    53313\n",
      "2.0     7206\n",
      "3.0     6614\n",
      "1.0     4708\n",
      "5.0     4006\n",
      "6.0     3395\n",
      "4.0     1784\n",
      "Name: count, dtype: int64\n",
      "11575\n"
     ]
    }
   ],
   "source": [
    "count = all_train_labels['label'].value_counts()\n",
    "print(count)\n",
    "n_samples = count.mean().astype(np.int64)\n",
    "print(n_samples)"
   ]
  },
  {
   "cell_type": "code",
   "execution_count": 81,
   "id": "dbb5d6b0",
   "metadata": {},
   "outputs": [
    {
     "name": "stderr",
     "output_type": "stream",
     "text": [
      "/Users/borosabel/.pyenv/versions/3.9.16/lib/python3.9/site-packages/sklearn/cluster/_kmeans.py:870: FutureWarning: The default value of `n_init` will change from 10 to 'auto' in 1.4. Set the value of `n_init` explicitly to suppress the warning\n",
      "  warnings.warn(\n"
     ]
    }
   ],
   "source": [
    "under_sampler = ClusterCentroids(sampling_strategy=sampling_strategy(all_train_data, all_train_labels['label'], n_samples,t='majority'))\n",
    "X_under, y_under = under_sampler.fit_resample(all_train_data, all_train_labels['label'])"
   ]
  },
  {
   "cell_type": "code",
   "execution_count": 86,
   "id": "0ea7dc8f",
   "metadata": {},
   "outputs": [],
   "source": [
    "# from imblearn.over_sampling import SMOTE\n",
    "# over_sampler = SMOTE(sampling_strategy=sampling_strategy(X_under, y_under,n_samples, t='minority'),k_neighbors=2)\n",
    "# X_bal, y_bal = over_sampler.fit_resample(X_under, y_under)"
   ]
  },
  {
   "cell_type": "code",
   "execution_count": 85,
   "id": "9ceaab1d",
   "metadata": {},
   "outputs": [],
   "source": [
    "# all_train_data = pd.DataFrame(X_bal, columns=gbrd_features)\n",
    "# all_train_labels = pd.DataFrame(y_bal, columns=['label'])"
   ]
  },
  {
   "cell_type": "code",
   "execution_count": 28,
   "id": "28568b7f",
   "metadata": {},
   "outputs": [],
   "source": [
    "# We undersample the majority class here\n",
    "under_sampler = RandomUnderSampler(random_state=42)\n",
    "all_train_data, all_train_labels = under_sampler.fit_resample(all_train_data, all_train_labels['label'])"
   ]
  },
  {
   "cell_type": "code",
   "execution_count": 25,
   "id": "8f9598fd",
   "metadata": {},
   "outputs": [],
   "source": [
    "all_train_data = pd.DataFrame(all_train_data, columns=gbrd_features)\n",
    "all_train_labels = pd.DataFrame(all_train_labels, columns=['label'])"
   ]
  },
  {
   "cell_type": "code",
   "execution_count": 37,
   "id": "46b9f43b",
   "metadata": {},
   "outputs": [
    {
     "data": {
      "text/plain": [
       "{0.0: 0.2166504058124357,\n",
       " 1.0: 2.4330497089117777,\n",
       " 2.0: 1.6323812194535694,\n",
       " 3.0: 1.7389309719406807,\n",
       " 4.0: 6.2558532279112615,\n",
       " 5.0: 2.9982340605570066,\n",
       " 6.0: 3.4221466364323505}"
      ]
     },
     "execution_count": 37,
     "metadata": {},
     "output_type": "execute_result"
    }
   ],
   "source": [
    "class_weights = class_weight.compute_class_weight(class_weight = \"balanced\", classes = np.unique(all_train_labels['label']),y = all_train_labels['label'])\n",
    "weights = dict(zip(np.unique(all_train_labels['label']), class_weights))\n",
    "weights"
   ]
  },
  {
   "cell_type": "markdown",
   "id": "83a9b396",
   "metadata": {},
   "source": [
    "<h2>Comparing training and validation dataset distribution</h2>"
   ]
  },
  {
   "cell_type": "code",
   "execution_count": 14,
   "id": "6a60b93e",
   "metadata": {},
   "outputs": [
    {
     "data": {
      "image/png": "[encoded data removed]",
      "text/plain": [
       "<Figure size 1200x600 with 2 Axes>"
      ]
     },
     "metadata": {},
     "output_type": "display_data"
    }
   ],
   "source": [
    "#----------DEALING WITH TRAINING DATA----------\n",
    "unique_nums, counts = np.unique(all_train_labels, return_counts=True)\n",
    "counts = np.round(counts / all_train_labels.shape[0] * 100, 2)\n",
    "\n",
    "# Plot the bar chart\n",
    "fig, ax = plt.subplots(1, 2, figsize=(12, 6))\n",
    "sns.barplot(x=unique_nums, y=counts, ax=ax[0])\n",
    "\n",
    "# Set the labels and title\n",
    "plt.xlabel('Bird Type')\n",
    "plt.ylabel('Percentage')\n",
    "plt.title('Ratio of label distribution in training set')\n",
    "\n",
    "for i, count in enumerate(counts):\n",
    "    ax[0].text(i, count, str(count), ha='center', va='bottom')\n",
    "#----------DEALING WITH TRAINING DATA----------\n",
    "\n",
    "#----------DEALING WITH VALIDATION DATA----------\n",
    "unique_nums, counts = np.unique(all_val_labels, return_counts=True)\n",
    "counts = np.round(counts / all_val_labels.shape[0] * 100, 2)\n",
    "\n",
    "# Plot the bar chart\n",
    "sns.barplot(x=unique_nums, y=counts, ax=ax[1])\n",
    "\n",
    "# Set the labels and title\n",
    "plt.xlabel('Bird Type')\n",
    "plt.ylabel('Percentage')\n",
    "plt.title('Ratio of label distribution in training set')\n",
    "\n",
    "for i, count in enumerate(counts):\n",
    "    ax[1].text(i, count, str(count), ha='center', va='bottom')"
   ]
  },
  {
   "cell_type": "code",
   "execution_count": 13,
   "id": "eefb6664",
   "metadata": {},
   "outputs": [],
   "source": [
    "important_features = ['cln_melspect_mean_7', 'raw_contrast_mean_3', 'cln_contrast_mean_3', 'cln_melspect_mean_8', 'cln_melspect_mean_9', 'cln_melspect_mean_5',\n",
    "       'raw_melspect_std_6', 'cln_melspect_mean_6', 'raw_melspect_std_7',\n",
    "       'cln_contrast_mean_4', 'cln_melspect_mean_4', 'raw_energy_std',\n",
    "       'cln_melspect_mean_10', 'cln_centroid_mean', 'cln_mfcc_mean_0',\n",
    "       'cln_flatness_mean', 'raw_power_std', 'raw_melspect_std_8',\n",
    "       'raw_mfcc_std_0', 'cln_mfcc_mean_9', 'raw_contrast_std_3',\n",
    "       'raw_mfcc_d_std_0', 'raw_contrast_mean_4', 'raw_mfcc_mean_8',\n",
    "       'cln_mfcc_mean_7', 'raw_mfcc_mean_12', 'raw_mfcc_mean_10',\n",
    "       'raw_melspect_std_5', 'raw_flux_std', 'raw_mfcc_mean_7', 'zcr_mean',\n",
    "       'raw_mfcc_mean_9', 'raw_mfcc_mean_16', 'yin_9', 'raw_mfcc_mean_13',\n",
    "       'raw_power_mean', 'raw_melspect_std_9', 'raw_mfcc_std_1',\n",
    "       'cln_contrast_mean_2', 'raw_mfcc_d_std_1', 'yin_6',\n",
    "       'raw_melspect_std_4', 'raw_mfcc_mean_1', 'cln_contrast_std_3',\n",
    "       'cln_mfcc_mean_1', 'yin_5', 'raw_mfcc_mean_15', 'raw_mfcc_mean_3',\n",
    "       'cln_flux_mean', 'raw_mfcc_mean_14']\n",
    "\n",
    "important_features2 = ['raw_contrast_mean_3', 'cln_contrast_mean_3', 'cln_melspect_mean_7', 'cln_melspect_mean_6', 'cln_melspect_mean_8', 'cln_melspect_mean_9', 'cln_melspect_mean_5', 'raw_melspect_std_7', 'raw_melspect_std_6', 'raw_energy_std', 'cln_melspect_mean_4', 'cln_mfcc_mean_0', 'raw_melspect_std_8', 'cln_contrast_mean_4', 'cln_centroid_mean', 'raw_mfcc_std_0', 'raw_mfcc_mean_9', 'raw_flux_std', 'cln_melspect_mean_10', 'raw_power_std', 'raw_mfcc_d_std_0', 'raw_contrast_mean_4', 'raw_mfcc_mean_8', 'raw_contrast_std_3', 'raw_melspect_std_5', 'raw_mfcc_mean_16', 'cln_flatness_mean', 'raw_mfcc_mean_10', 'cln_mfcc_mean_8', 'raw_mfcc_mean_12', 'cln_contrast_mean_2', 'zcr_mean', 'raw_mfcc_mean_7', 'cln_mfcc_mean_9', 'raw_mfcc_mean_13', 'raw_melspect_std_9', 'raw_mfcc_std_1', 'raw_power_mean', 'cln_flux_mean', 'raw_mfcc_d_std_1', 'yin_8', 'raw_mfcc_mean_15', 'raw_mfcc_mean_3', 'raw_mfcc_mean_17', 'yin_6', 'raw_melspect_std_4', 'cln_mfcc_mean_7', 'raw_mfcc_mean_1', 'yin_7', 'raw_contrast_mean_2']"
   ]
  },
  {
   "cell_type": "code",
   "execution_count": 14,
   "id": "52ad7da4",
   "metadata": {},
   "outputs": [],
   "source": [
    "most_correlated_features = ['cln_melspect_mean_10','cln_mfcc_mean_9','raw_melspect_std_34','raw_mfcc_mean_10',\n",
    "                            'cln_contrast_mean_2','cln_melspect_mean_9','raw_contrast_mean_5','raw_melspect_std_30',\n",
    "                            'raw_mfcc_std_1','cln_mfcc_mean_10','cln_flatness_mean','cln_mfcc_mean_7','cln_melspect_mean_8',\n",
    "                            'cln_contrast_mean_5','raw_melspect_std_32','cln_mfcc_mean_4','cln_melspect_mean_6','raw_contrast_mean_3',\n",
    "                            'cln_mfcc_mean_2','raw_mfcc_std_19','cln_melspect_mean_5','raw_mfcc_d_std_0','raw_melspect_std_33',\n",
    "                            'raw_mfcc_d_std_1','cln_melspect_mean_4','cln_centroid_mean','cln_contrast_mean_3','raw_contrast_mean_4',\n",
    "                            'cln_contrast_mean_4','raw_melspect_std_31','raw_mfcc_mean_8','raw_melspect_std_9','cln_melspect_mean_7',\n",
    "                            'raw_melspect_std_8','raw_contrast_std_3','raw_mfcc_mean_9','cln_melspect_mean_3','cln_contrast_std_3',\n",
    "                            'cln_mfcc_mean_8','raw_mfcc_std_0']"
   ]
  },
  {
   "cell_type": "code",
   "execution_count": 15,
   "id": "29801c94",
   "metadata": {},
   "outputs": [
    {
     "name": "stdout",
     "output_type": "stream",
     "text": [
      "45\n"
     ]
    }
   ],
   "source": [
    "set1 = set(important_features)\n",
    "set2 = set(important_features2)\n",
    "\n",
    "common_values = list(set1 & set2)\n",
    "print(len(common_values))"
   ]
  },
  {
   "cell_type": "code",
   "execution_count": 67,
   "id": "a2cea2d3",
   "metadata": {},
   "outputs": [],
   "source": [
    "all_train_data = all_train_data[gbrd_features]\n",
    "all_val_data = all_val_data[gbrd_features]\n",
    "# all_train_data = all_train_data[important_features]\n",
    "# all_val_data = all_val_data[important_features]"
   ]
  },
  {
   "cell_type": "code",
   "execution_count": 15,
   "id": "642182b3",
   "metadata": {},
   "outputs": [
    {
     "data": {
      "text/plain": [
       "(81392, 22)"
      ]
     },
     "execution_count": 15,
     "metadata": {},
     "output_type": "execute_result"
    }
   ],
   "source": [
    "all_train_data.shape"
   ]
  },
  {
   "cell_type": "code",
   "execution_count": null,
   "id": "b083335e",
   "metadata": {},
   "outputs": [],
   "source": []
  },
  {
   "cell_type": "code",
   "execution_count": 47,
   "id": "08bd4a0d",
   "metadata": {},
   "outputs": [],
   "source": [
    "# Train RandomForestClassifier\n",
    "\n",
    "rf = RandomForestClassifier(n_estimators=300, class_weight='balanced', random_state=42)\n",
    "rf.fit(all_train_data, all_train_labels['label'])\n",
    "y_pred = rf.predict(all_val_data)"
   ]
  },
  {
   "cell_type": "code",
   "execution_count": 17,
   "id": "f099557e",
   "metadata": {},
   "outputs": [],
   "source": [
    "# Train GradientBoostingClassifier\n",
    "\n",
    "gbrf_model = GradientBoostingClassifier(n_estimators=300)\n",
    "gbrf_model.fit(all_train_data, all_train_labels['label'])\n",
    "\n",
    "# Use the trained model for predictions\n",
    "y_pred = gbrf_model.predict(all_val_data)"
   ]
  },
  {
   "cell_type": "code",
   "execution_count": 44,
   "id": "22d49ff8",
   "metadata": {},
   "outputs": [],
   "source": [
    "y_pred = ensemble_model.predict(all_val_data)"
   ]
  },
  {
   "cell_type": "code",
   "execution_count": 18,
   "id": "3688cc6e",
   "metadata": {},
   "outputs": [],
   "source": [
    "# # Save the trained model to a file\n",
    "# filename = 'gbrf_model_full_features.sav'\n",
    "# pickle.dump(gbrf_model, open(filename, 'wb'))"
   ]
  },
  {
   "cell_type": "code",
   "execution_count": 30,
   "id": "6922b84c",
   "metadata": {},
   "outputs": [
    {
     "data": {
      "text/plain": [
       "(35, 2)"
      ]
     },
     "execution_count": 30,
     "metadata": {},
     "output_type": "execute_result"
    }
   ],
   "source": [
    "# feature_importances = clf.feature_importances_\n",
    "\n",
    "# # Create a dataframe to hold the feature importances\n",
    "# importance_df = pd.DataFrame({'Feature': all_train_data.columns, 'Importance': feature_importances})\n",
    "\n",
    "# # Order the dataframe by importance in descending order\n",
    "# importance_df = importance_df.sort_values(by='Importance', ascending=False)\n",
    "# importance_df[importance_df['Importance'] >= 0.01].shape\n",
    "# # Select the top n features\n",
    "# # n = 22  # Set the desired number of top features\n",
    "# # top_n_features = importance_df.head(n)\n",
    "\n",
    "# # Display the top n features\n",
    "# # print(list(top_n_features['Feature']))"
   ]
  },
  {
   "cell_type": "code",
   "execution_count": 18,
   "id": "0c3b8d92",
   "metadata": {},
   "outputs": [],
   "source": [
    "total_cost = cost_function(all_val_labels['label'], y_pred, REVENUES)"
   ]
  },
  {
   "cell_type": "code",
   "execution_count": 77,
   "id": "06e707c7",
   "metadata": {},
   "outputs": [
    {
     "data": {
      "text/plain": [
       "5459.880000001017"
      ]
     },
     "execution_count": 77,
     "metadata": {},
     "output_type": "execute_result"
    }
   ],
   "source": [
    "# n_estimators=300\n",
    "# max_depth=None\n",
    "total_cost"
   ]
  },
  {
   "cell_type": "code",
   "execution_count": 19,
   "id": "ea379943",
   "metadata": {},
   "outputs": [
    {
     "data": {
      "text/plain": [
       "5146.320000000965"
      ]
     },
     "execution_count": 19,
     "metadata": {},
     "output_type": "execute_result"
    }
   ],
   "source": [
    "# n_estimators=100\n",
    "# max_depth=5\n",
    "total_cost"
   ]
  },
  {
   "cell_type": "code",
   "execution_count": 91,
   "id": "156d60f4",
   "metadata": {},
   "outputs": [
    {
     "data": {
      "text/plain": [
       "5037.81000000138"
      ]
     },
     "execution_count": 91,
     "metadata": {},
     "output_type": "execute_result"
    }
   ],
   "source": [
    "# n_estimators=100\n",
    "# max_depth=10\n",
    "# boosted\n",
    "total_cost"
   ]
  },
  {
   "cell_type": "code",
   "execution_count": 54,
   "id": "b1a14f52",
   "metadata": {},
   "outputs": [
    {
     "data": {
      "text/plain": [
       "5063.770000001338"
      ]
     },
     "execution_count": 54,
     "metadata": {},
     "output_type": "execute_result"
    }
   ],
   "source": [
    "# n_estimators=100\n",
    "# max_depth=10\n",
    "# min_samples_split=10\n",
    "total_cost"
   ]
  },
  {
   "cell_type": "code",
   "execution_count": 60,
   "id": "c2048a25",
   "metadata": {},
   "outputs": [
    {
     "data": {
      "text/plain": [
       "5063.770000001338"
      ]
     },
     "execution_count": 60,
     "metadata": {},
     "output_type": "execute_result"
    }
   ],
   "source": [
    "# n_estimators=100\n",
    "# max_depth=10\n",
    "# min_samples_split=15\n",
    "total_cost"
   ]
  },
  {
   "cell_type": "code",
   "execution_count": null,
   "id": "22aefea6",
   "metadata": {},
   "outputs": [],
   "source": [
    "# n_estimators=200\n",
    "total_cost"
   ]
  },
  {
   "cell_type": "code",
   "execution_count": null,
   "id": "ac8877f3",
   "metadata": {},
   "outputs": [],
   "source": [
    "# n_estimators=200\n",
    "# max_depth=10\n",
    "# min_samples_split=15\n",
    "total_cost"
   ]
  },
  {
   "cell_type": "code",
   "execution_count": null,
   "id": "5ecd9dce",
   "metadata": {},
   "outputs": [],
   "source": [
    "# n_estimators=300\n",
    "# max_depth=10\n",
    "# min_samples_split=15\n",
    "total_cost"
   ]
  },
  {
   "cell_type": "code",
   "execution_count": null,
   "id": "32362cdf",
   "metadata": {},
   "outputs": [],
   "source": [
    "# n_estimators=300\n",
    "# max_depth=10\n",
    "total_cost"
   ]
  },
  {
   "cell_type": "code",
   "execution_count": 20,
   "id": "eb67badc",
   "metadata": {},
   "outputs": [],
   "source": [
    "sub_df = evaluate_and_create_submission_file(gbrd_features, gbrf_model)"
   ]
  },
  {
   "cell_type": "code",
   "execution_count": 21,
   "id": "79428665",
   "metadata": {},
   "outputs": [],
   "source": [
    "sub_df.to_csv('submission_test5.csv', index=False, header=False)"
   ]
  },
  {
   "cell_type": "code",
   "execution_count": null,
   "id": "63aa448d",
   "metadata": {},
   "outputs": [],
   "source": []
  }
 ],
 "metadata": {
  "kernelspec": {
   "display_name": "Python 3 (ipykernel)",
   "language": "python",
   "name": "python3"
  },
  "language_info": {
   "codemirror_mode": {
    "name": "ipython",
    "version": 3
   },
   "file_extension": ".py",
   "mimetype": "text/x-python",
   "name": "python",
   "nbconvert_exporter": "python",
   "pygments_lexer": "ipython3",
   "version": "3.9.16"
  }
 },
 "nbformat": 4,
 "nbformat_minor": 5
}
