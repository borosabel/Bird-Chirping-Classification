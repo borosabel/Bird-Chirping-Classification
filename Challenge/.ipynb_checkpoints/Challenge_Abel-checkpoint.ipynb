{
 "cells": [
  {
   "cell_type": "code",
   "execution_count": 13,
   "id": "4cdde5f6",
   "metadata": {},
   "outputs": [],
   "source": [
    "import numpy as np\n",
    "import pandas as pd\n",
    "\n",
    "import seaborn as sns\n",
    "import matplotlib.pyplot as plt\n",
    "\n",
    "import os\n",
    "\n",
    "import statsmodels\n",
    "\n",
    "from sklearn.model_selection import StratifiedKFold, cross_val_predict\n",
    "from sklearn.model_selection import KFold\n",
    "from sklearn.ensemble import RandomForestClassifier\n",
    "from sklearn.metrics import f1_score\n",
    "from sklearn.metrics import accuracy_score\n",
    "from sklearn.neighbors import KNeighborsClassifier\n",
    "from sklearn.model_selection import GridSearchCV, train_test_split\n",
    "from sklearn.tree import DecisionTreeClassifier\n",
    "from sklearn.metrics import roc_curve, auc\n",
    "from sklearn.metrics import confusion_matrix\n",
    "from sklearn.preprocessing import StandardScaler\n",
    "from sklearn.decomposition import PCA\n",
    "from sklearn.metrics import classification_report\n",
    "from sklearn.metrics import precision_score, recall_score, f1_score, make_scorer\n",
    "from sklearn.ensemble import GradientBoostingClassifier\n",
    "import pickle\n",
    "from sklearn import svm\n",
    "from sklearn.ensemble import VotingClassifier, RandomForestClassifier\n",
    "from sklearn.linear_model import LogisticRegression\n",
    "from sklearn.svm import SVC\n",
    "from sklearn.model_selection import train_test_split\n",
    "from sklearn.metrics import accuracy_score\n",
    "from sklearn.ensemble import AdaBoostClassifier\n",
    "from sklearn.utils import class_weight\n",
    "from imblearn.over_sampling import RandomOverSampler\n",
    "from imblearn.under_sampling import RandomUnderSampler\n",
    "from imblearn.pipeline import Pipeline"
   ]
  },
  {
   "cell_type": "code",
   "execution_count": 2,
   "id": "0d45a56a",
   "metadata": {},
   "outputs": [],
   "source": [
    "feature_names = np.loadtxt('/Users/borosabel/Documents/Uni/ML&Pattern Classification/UE/ML-PatterClassification/python/feature_names.txt', dtype=str).T\n",
    "root_dir = \"/Users/borosabel/Documents/Uni/ML&Pattern Classification/UE/ML-PatterClassification/python\"\n",
    "test_files_dir = \"/Users/borosabel/Documents/Uni/ML&Pattern Classification/UE/ML-PatterClassification/python_test\"\n",
    "test_file_names = ['test00', 'test01', 'test02', 'test03', 'test04', 'test05', 'test06', 'test07', 'test08', 'test09', 'test10', 'test11', 'test12', 'test13', 'test14', 'test15']\n",
    "labels = {'cowpig1':2, 'eueowl1':4, 'tawowl1':6, 'eucdov':3, 'grswoo':5, 'comcuc':1, 'other':0}\n",
    "directories = ['cowpig1', 'eueowl1', 'tawowl1', 'eucdov', 'grswoo', 'comcuc']\n",
    "\n",
    "sns.set_palette(\"Paired\")\n",
    "\n",
    "feature_list = ['zcr_mean',\n",
    " 'zcr_std',\n",
    " 'yin_0',\n",
    " 'yin_1',\n",
    " 'yin_2',\n",
    " 'yin_3',\n",
    " 'yin_4',\n",
    " 'yin_5',\n",
    " 'yin_6',\n",
    " 'yin_7',\n",
    " 'yin_8',\n",
    " 'yin_9',\n",
    " 'yin_10',\n",
    " 'yin_11',\n",
    " 'yin_12',\n",
    " 'yin_13',\n",
    " 'raw_melspect_mean_0',\n",
    " 'raw_melspect_std_0',\n",
    " 'raw_melspect_std_1',\n",
    " 'raw_melspect_std_2',\n",
    " 'raw_melspect_std_3',\n",
    " 'raw_melspect_std_4',\n",
    " 'raw_melspect_std_5',\n",
    " 'raw_melspect_std_6',\n",
    " 'raw_melspect_std_7',\n",
    " 'raw_melspect_std_8',\n",
    " 'raw_melspect_std_9',\n",
    " 'raw_melspect_std_10',\n",
    " 'raw_melspect_std_11',\n",
    " 'raw_melspect_std_12',\n",
    " 'raw_melspect_std_13',\n",
    " 'raw_melspect_std_14',\n",
    " 'raw_melspect_std_15',\n",
    " 'raw_melspect_std_16',\n",
    " 'raw_melspect_std_17',\n",
    " 'raw_melspect_std_18',\n",
    " 'raw_melspect_std_19',\n",
    " 'raw_melspect_std_20',\n",
    " 'raw_melspect_std_21',\n",
    " 'raw_melspect_std_22',\n",
    " 'raw_melspect_std_23',\n",
    " 'raw_melspect_std_24',\n",
    " 'raw_melspect_std_25',\n",
    " 'raw_melspect_std_26',\n",
    " 'raw_melspect_std_27',\n",
    " 'raw_melspect_std_28',\n",
    " 'raw_melspect_std_29',\n",
    " 'raw_melspect_std_30',\n",
    " 'raw_melspect_std_31',\n",
    " 'raw_melspect_std_32',\n",
    " 'raw_melspect_std_33',\n",
    " 'raw_melspect_std_34',\n",
    " 'raw_melspect_std_35',\n",
    " 'raw_melspect_std_36',\n",
    " 'raw_melspect_std_37',\n",
    " 'raw_melspect_std_38',\n",
    " 'raw_melspect_std_39',\n",
    " 'raw_melspect_std_40',\n",
    " 'raw_melspect_std_52',\n",
    " 'raw_melspect_std_53',\n",
    " 'raw_melspect_std_54',\n",
    " 'raw_melspect_std_55',\n",
    " 'raw_melspect_std_56',\n",
    " 'raw_melspect_std_57',\n",
    " 'raw_mfcc_mean_0',\n",
    " 'raw_mfcc_mean_1',\n",
    " 'raw_mfcc_mean_2',\n",
    " 'raw_mfcc_mean_3',\n",
    " 'raw_mfcc_mean_4',\n",
    " 'raw_mfcc_mean_5',\n",
    " 'raw_mfcc_mean_6',\n",
    " 'raw_mfcc_mean_7',\n",
    " 'raw_mfcc_mean_8',\n",
    " 'raw_mfcc_mean_9',\n",
    " 'raw_mfcc_mean_10',\n",
    " 'raw_mfcc_mean_11',\n",
    " 'raw_mfcc_mean_12',\n",
    " 'raw_mfcc_mean_13',\n",
    " 'raw_mfcc_mean_14',\n",
    " 'raw_mfcc_mean_15',\n",
    " 'raw_mfcc_mean_16',\n",
    " 'raw_mfcc_mean_17',\n",
    " 'raw_mfcc_mean_18',\n",
    " 'raw_mfcc_mean_19',\n",
    " 'raw_mfcc_std_0',\n",
    " 'raw_mfcc_std_1',\n",
    " 'raw_mfcc_std_2',\n",
    " 'raw_mfcc_std_3',\n",
    " 'raw_mfcc_std_4',\n",
    " 'raw_mfcc_std_5',\n",
    " 'raw_mfcc_std_6',\n",
    " 'raw_mfcc_std_7',\n",
    " 'raw_mfcc_std_8',\n",
    " 'raw_mfcc_std_9',\n",
    " 'raw_mfcc_std_10',\n",
    " 'raw_mfcc_std_11',\n",
    " 'raw_mfcc_std_12',\n",
    " 'raw_mfcc_std_13',\n",
    " 'raw_mfcc_std_14',\n",
    " 'raw_mfcc_std_15',\n",
    " 'raw_mfcc_std_16',\n",
    " 'raw_mfcc_std_17',\n",
    " 'raw_mfcc_std_18',\n",
    " 'raw_mfcc_std_19',\n",
    " 'raw_mfcc_d_mean_0',\n",
    " 'raw_mfcc_d_mean_1',\n",
    " 'raw_mfcc_d_mean_2',\n",
    " 'raw_mfcc_d_mean_3',\n",
    " 'raw_mfcc_d_mean_4',\n",
    " 'raw_mfcc_d_mean_5',\n",
    " 'raw_mfcc_d_mean_6',\n",
    " 'raw_mfcc_d_mean_7',\n",
    " 'raw_mfcc_d_mean_8',\n",
    " 'raw_mfcc_d_mean_9',\n",
    " 'raw_mfcc_d_mean_10',\n",
    " 'raw_mfcc_d_mean_11',\n",
    " 'raw_mfcc_d_mean_12',\n",
    " 'raw_mfcc_d_mean_13',\n",
    " 'raw_mfcc_d_mean_14',\n",
    " 'raw_mfcc_d_mean_15',\n",
    " 'raw_mfcc_d_mean_16',\n",
    " 'raw_mfcc_d_mean_17',\n",
    " 'raw_mfcc_d_mean_18',\n",
    " 'raw_mfcc_d_mean_19',\n",
    " 'raw_mfcc_d_std_0',\n",
    " 'raw_mfcc_d_std_1',\n",
    " 'raw_mfcc_d_std_2',\n",
    " 'raw_mfcc_d_std_3',\n",
    " 'raw_mfcc_d_std_4',\n",
    " 'raw_mfcc_d_std_5',\n",
    " 'raw_mfcc_d_std_6',\n",
    " 'raw_mfcc_d_std_7',\n",
    " 'raw_mfcc_d_std_8',\n",
    " 'raw_mfcc_d_std_9',\n",
    " 'raw_mfcc_d_std_10',\n",
    " 'raw_mfcc_d_std_11',\n",
    " 'raw_mfcc_d_std_12',\n",
    " 'raw_mfcc_d_std_13',\n",
    " 'raw_mfcc_d_std_14',\n",
    " 'raw_mfcc_d_std_15',\n",
    " 'raw_mfcc_d_std_16',\n",
    " 'raw_mfcc_d_std_17',\n",
    " 'raw_mfcc_d_std_18',\n",
    " 'raw_mfcc_d_std_19',\n",
    " 'raw_mfcc_d2_mean_0',\n",
    " 'raw_mfcc_d2_mean_1',\n",
    " 'raw_mfcc_d2_mean_2',\n",
    " 'raw_mfcc_d2_mean_3',\n",
    " 'raw_mfcc_d2_mean_4',\n",
    " 'raw_mfcc_d2_mean_5',\n",
    " 'raw_mfcc_d2_mean_6',\n",
    " 'raw_mfcc_d2_mean_7',\n",
    " 'raw_mfcc_d2_mean_8',\n",
    " 'raw_mfcc_d2_mean_9',\n",
    " 'raw_mfcc_d2_mean_10',\n",
    " 'raw_mfcc_d2_mean_11',\n",
    " 'raw_mfcc_d2_mean_12',\n",
    " 'raw_mfcc_d2_mean_13',\n",
    " 'raw_mfcc_d2_mean_14',\n",
    " 'raw_mfcc_d2_mean_15',\n",
    " 'raw_mfcc_d2_mean_16',\n",
    " 'raw_mfcc_d2_mean_17',\n",
    " 'raw_mfcc_d2_mean_18',\n",
    " 'raw_mfcc_d2_mean_19',\n",
    " 'raw_mfcc_d2_std_2',\n",
    " 'raw_mfcc_d2_std_3',\n",
    " 'raw_mfcc_d2_std_4',\n",
    " 'raw_mfcc_d2_std_5',\n",
    " 'raw_mfcc_d2_std_6',\n",
    " 'raw_mfcc_d2_std_7',\n",
    " 'raw_mfcc_d2_std_8',\n",
    " 'raw_mfcc_d2_std_9',\n",
    " 'raw_mfcc_d2_std_10',\n",
    " 'raw_mfcc_d2_std_11',\n",
    " 'raw_mfcc_d2_std_12',\n",
    " 'raw_mfcc_d2_std_13',\n",
    " 'raw_mfcc_d2_std_14',\n",
    " 'raw_mfcc_d2_std_15',\n",
    " 'raw_mfcc_d2_std_16',\n",
    " 'raw_mfcc_d2_std_17',\n",
    " 'raw_mfcc_d2_std_18',\n",
    " 'raw_mfcc_d2_std_19',\n",
    " 'raw_flatness_mean',\n",
    " 'raw_flatness_std',\n",
    " 'raw_centroid_std',\n",
    " 'raw_flux_mean',\n",
    " 'raw_flux_std',\n",
    " 'raw_energy_mean',\n",
    " 'raw_energy_std',\n",
    " 'raw_power_mean',\n",
    " 'raw_power_std',\n",
    " 'raw_bandwidth_mean',\n",
    " 'raw_bandwidth_std',\n",
    " 'raw_contrast_mean_0',\n",
    " 'raw_contrast_mean_1',\n",
    " 'raw_contrast_mean_2',\n",
    " 'raw_contrast_mean_3',\n",
    " 'raw_contrast_mean_4',\n",
    " 'raw_contrast_mean_5',\n",
    " 'raw_contrast_mean_6',\n",
    " 'raw_contrast_std_0',\n",
    " 'raw_contrast_std_1',\n",
    " 'raw_contrast_std_2',\n",
    " 'raw_contrast_std_3',\n",
    " 'raw_contrast_std_4',\n",
    " 'raw_contrast_std_5',\n",
    " 'raw_contrast_std_6',\n",
    " 'cln_melspect_mean_0',\n",
    " 'cln_melspect_mean_1',\n",
    " 'cln_melspect_mean_2',\n",
    " 'cln_melspect_mean_3',\n",
    " 'cln_melspect_mean_4',\n",
    " 'cln_melspect_mean_5',\n",
    " 'cln_melspect_mean_6',\n",
    " 'cln_melspect_mean_7',\n",
    " 'cln_melspect_mean_8',\n",
    " 'cln_melspect_mean_9',\n",
    " 'cln_melspect_mean_10',\n",
    " 'cln_melspect_mean_53',\n",
    " 'cln_melspect_std_0',\n",
    " 'cln_melspect_std_1',\n",
    " 'cln_melspect_std_55',\n",
    " 'cln_melspect_std_56',\n",
    " 'cln_melspect_std_57',\n",
    " 'cln_mfcc_mean_0',\n",
    " 'cln_mfcc_mean_1',\n",
    " 'cln_mfcc_mean_2',\n",
    " 'cln_mfcc_mean_3',\n",
    " 'cln_mfcc_mean_4',\n",
    " 'cln_mfcc_mean_5',\n",
    " 'cln_mfcc_mean_6',\n",
    " 'cln_mfcc_mean_7',\n",
    " 'cln_mfcc_mean_8',\n",
    " 'cln_mfcc_mean_9',\n",
    " 'cln_mfcc_mean_10',\n",
    " 'cln_mfcc_mean_11',\n",
    " 'cln_mfcc_mean_12',\n",
    " 'cln_mfcc_mean_13',\n",
    " 'cln_mfcc_mean_14',\n",
    " 'cln_mfcc_mean_15',\n",
    " 'cln_mfcc_mean_16',\n",
    " 'cln_mfcc_mean_17',\n",
    " 'cln_mfcc_mean_18',\n",
    " 'cln_mfcc_mean_19',\n",
    " 'cln_flatness_mean',\n",
    " 'cln_flatness_std',\n",
    " 'cln_centroid_mean',\n",
    " 'cln_centroid_std',\n",
    " 'cln_flux_mean',\n",
    " 'cln_bandwidth_mean',\n",
    " 'cln_bandwidth_std',\n",
    " 'cln_contrast_mean_0',\n",
    " 'cln_contrast_mean_1',\n",
    " 'cln_contrast_mean_2',\n",
    " 'cln_contrast_mean_3',\n",
    " 'cln_contrast_mean_4',\n",
    " 'cln_contrast_mean_5',\n",
    " 'cln_contrast_mean_6',\n",
    " 'cln_contrast_std_0',\n",
    " 'cln_contrast_std_1',\n",
    " 'cln_contrast_std_2',\n",
    " 'cln_contrast_std_3',\n",
    " 'cln_contrast_std_4',\n",
    " 'cln_contrast_std_5',\n",
    " 'cln_contrast_std_6']\n",
    "\n",
    "gbrd_features = ['raw_contrast_mean_3', 'cln_contrast_mean_3', 'raw_melspect_std_6', 'cln_mfcc_mean_0', 'cln_contrast_mean_4', 'raw_mfcc_std_0', 'cln_melspect_mean_5', 'cln_melspect_mean_4', 'zcr_mean', 'raw_mfcc_d_std_0', 'cln_melspect_mean_7', 'raw_mfcc_mean_12', 'raw_mfcc_mean_10', 'raw_contrast_std_3', 'raw_mfcc_mean_15', 'raw_mfcc_mean_16', 'raw_mfcc_mean_1', 'raw_melspect_std_3', 'raw_melspect_std_8', 'raw_melspect_std_5', 'raw_energy_std', 'raw_mfcc_mean_9']"
   ]
  },
  {
   "cell_type": "code",
   "execution_count": 3,
   "id": "d0dbefb5",
   "metadata": {},
   "outputs": [],
   "source": [
    "REVENUES = np.asarray(\n",
    "        [[ 0.05, -0.2 , -0.2 , -0.2 , -0.2 , -0.2 , -0.2 ],\n",
    "         [-0.25,  1.  , -0.3 , -0.1 , -0.1 , -0.1 , -0.1 ],\n",
    "         [-0.02, -0.1 ,  1.  , -0.1 , -0.1 , -0.1 , -0.1 ],\n",
    "         [-0.25, -0.1 , -0.3 ,  1.  , -0.1 , -0.1 , -0.1 ],\n",
    "         [-0.25, -0.1 , -0.3 , -0.1 ,  1.  , -0.1 , -0.1 ],\n",
    "         [-0.25, -0.1 , -0.3 , -0.1 , -0.1 ,  1.  , -0.1 ],\n",
    "         [-0.25, -0.1 , -0.3 , -0.1 , -0.1 , -0.1 ,  1.  ]])"
   ]
  },
  {
   "cell_type": "code",
   "execution_count": 4,
   "id": "48c9165b",
   "metadata": {},
   "outputs": [],
   "source": [
    "def cost_function(y_true, y_pred, cost_matrix):\n",
    "    total_cost = 0\n",
    "    for i in range(len(y_true)):\n",
    "        true_label = int(y_true[i])\n",
    "        pred_label = int(y_pred[i])\n",
    "        total_cost += cost_matrix[true_label][pred_label]\n",
    "    return total_cost"
   ]
  },
  {
   "cell_type": "markdown",
   "id": "1d88aaf9",
   "metadata": {},
   "source": [
    "<h2>Helper functions</h2>"
   ]
  },
  {
   "cell_type": "code",
   "execution_count": 5,
   "id": "31a3120a",
   "metadata": {},
   "outputs": [],
   "source": [
    "def get_all_feature_files_path(directory_path):\n",
    "    \"\"\"\n",
    "    Input: ONE full path to the directory ex: 'user/uni/ML/cowpig1'\n",
    "    Returns a list of all the feature file paths in the given directory\n",
    "    \n",
    "    \"\"\"\n",
    "    file_names = os.listdir(directory_path)\n",
    "    file_paths = [os.path.join(directory_path, file_name) for file_name in file_names if '.labels' not in file_name]\n",
    "    file_paths = [file_path for file_path in file_paths if os.path.isfile(file_path)]\n",
    "    return file_paths"
   ]
  },
  {
   "cell_type": "code",
   "execution_count": 6,
   "id": "3bb6f2f6",
   "metadata": {},
   "outputs": [],
   "source": [
    "def train_val_split_on_files(directory, test_ratio=0.2):\n",
    "    \"\"\"\n",
    "    Input: ONE directory name ex: ['comcuc1']\n",
    "    Returns back a list of files as a tuple (train_set, validation_set) split in according to test_ratio\n",
    "    \"\"\"\n",
    "    for dir_ in directory:\n",
    "        current_dir = root_dir + '/' + dir_\n",
    "        file_paths = get_all_feature_files_path(current_dir)\n",
    "        train_set, validation_set = train_test_split(file_paths, test_size=test_ratio)\n",
    "    return train_set, validation_set"
   ]
  },
  {
   "cell_type": "code",
   "execution_count": 7,
   "id": "b9afa54a",
   "metadata": {},
   "outputs": [],
   "source": [
    "def clear_label_file(data, labels, decrease_null=False):\n",
    "    '''\n",
    "    Input: numpy array of the labels and data\n",
    "    Returns: numpy array of the data and labels but clears the labels where the annotators aggreement wasn't\n",
    "             100% in case the majority vote was 0.\n",
    "    '''\n",
    "    rows_to_delete = []\n",
    "    for idx, row in enumerate(labels):\n",
    "        if((row[0] == 0) and (np.sum(row) > 0)) :\n",
    "            rows_to_delete.append(idx)\n",
    "            \n",
    "    if(decrease_null == True):\n",
    "        counter = 25\n",
    "        for idx, row in enumerate(labels):\n",
    "            if((row[0] == 0) and (idx not in rows_to_delete) and (counter > 0)) :\n",
    "                rows_to_delete.append(idx)\n",
    "                counter -= 1\n",
    "            \n",
    "    labels_copy = np.delete(labels, rows_to_delete, axis=0)\n",
    "    data_copy = np.delete(data, rows_to_delete, axis=0)\n",
    "    return data_copy, labels_copy"
   ]
  },
  {
   "cell_type": "code",
   "execution_count": 8,
   "id": "314157b3",
   "metadata": {},
   "outputs": [],
   "source": [
    "def load_list_of_files(list_of_files: list):\n",
    "    \"\"\"\n",
    "    Input: List of file names with full path, ideally the output of the train_val_split_on_files function.\n",
    "    Returns two dataframe, the features and the labels according to the majority voteing.\n",
    "    \"\"\"\n",
    "    all_files_in_dir = np.empty((0, 548))\n",
    "    all_labels_in_dir = np.empty((0, 1))\n",
    "    \n",
    "    for file in list_of_files:\n",
    "        corresponding_label_file = file.replace('.npy', '.labels.npy')\n",
    "        \n",
    "        data = np.load(file)\n",
    "        labels = np.load(corresponding_label_file)\n",
    "        data, labels = clear_label_file(data, labels, False)\n",
    "        all_files_in_dir = np.concatenate((all_files_in_dir, data))\n",
    "        all_labels_in_dir = np.concatenate((all_labels_in_dir, labels[:, :1]))\n",
    "        \n",
    "    X = pd.DataFrame(all_files_in_dir, columns = feature_names)\n",
    "    y = pd.DataFrame(all_labels_in_dir, columns=[\"label\"])\n",
    "    \n",
    "    return X, y"
   ]
  },
  {
   "cell_type": "code",
   "execution_count": 9,
   "id": "13054db0",
   "metadata": {},
   "outputs": [],
   "source": [
    "def get_all_files_from_all_dir():\n",
    "    \"\"\"\n",
    "    Returns all the training data, training labels, validation data and validation labels as a dataframe.\n",
    "    \"\"\"\n",
    "    cowpig_train_files, cowpig_val_files = train_val_split_on_files(['cowpig1'], 0.2)\n",
    "    eueowl1_train_files, eueowl1_val_files = train_val_split_on_files(['eueowl1'], 0.2)\n",
    "    tawowl1_train_files, tawowl1_val_files = train_val_split_on_files(['tawowl1'], 0.2)\n",
    "    eucdov_train_files, eucdov_val_files = train_val_split_on_files(['eucdov'], 0.2)\n",
    "    grswoo_train_files, grswoo_val_files = train_val_split_on_files(['grswoo'], 0.2)\n",
    "    comcuc_train_files, comcuc_val_files = train_val_split_on_files(['comcuc'], 0.2)\n",
    "    \n",
    "    cowpig_X_train, cowpig_Y_train = load_list_of_files(cowpig_train_files)\n",
    "    eueowl1_train, eueowl1_Y_train = load_list_of_files(eueowl1_train_files)\n",
    "    tawowl1_X_train, tawowl1_Y_train = load_list_of_files(tawowl1_train_files)\n",
    "    eucdov_X_train, eucdov_Y_train = load_list_of_files(eucdov_train_files)\n",
    "    grswoo_X_train, grswoo_Y_train = load_list_of_files(grswoo_train_files)\n",
    "    comcuc_X_train, comcuc_Y_train = load_list_of_files(comcuc_train_files)\n",
    "    \n",
    "    cowpig_X_val, cowpig_Y_val = load_list_of_files(cowpig_val_files)\n",
    "    eueowl1_X_val, eueowl1_Y_val = load_list_of_files(eueowl1_val_files)\n",
    "    tawowl1_X_val, tawowl1_Y_val = load_list_of_files(tawowl1_val_files)\n",
    "    eucdov_X_val, eucdov_Y_val = load_list_of_files(eucdov_val_files)\n",
    "    grswoo_X_val, grswoo_Y_val = load_list_of_files(grswoo_val_files)\n",
    "    comcuc_X_val, comcuc_Y_val = load_list_of_files(comcuc_val_files)\n",
    "\n",
    "    all_train_data = np.concatenate((cowpig_X_train, eueowl1_train, tawowl1_X_train, eucdov_X_train, grswoo_X_train, comcuc_X_train))\n",
    "    all_val_data = np.concatenate((cowpig_X_val, eueowl1_X_val, tawowl1_X_val, eucdov_X_val, grswoo_X_val, comcuc_X_val))\n",
    "    all_train_labels = np.concatenate((cowpig_Y_train, eueowl1_Y_train, tawowl1_Y_train, eucdov_Y_train, grswoo_Y_train, comcuc_Y_train))\n",
    "    all_val_labels = np.concatenate((cowpig_Y_val, eueowl1_Y_val, tawowl1_Y_val, eucdov_Y_val, grswoo_Y_val, comcuc_Y_val))\n",
    "    \n",
    "    return all_train_data, all_val_data, all_train_labels, all_val_labels"
   ]
  },
  {
   "cell_type": "code",
   "execution_count": 10,
   "id": "e31dbd69",
   "metadata": {},
   "outputs": [],
   "source": [
    "def evaluate_and_create_submission_file(important_features, model):\n",
    "    \"\"\"\n",
    "    Input: the features which you used for the training set and the trained model\n",
    "    Returns a dataframe in the format of the accepted submission.\n",
    "    \"\"\"\n",
    "    header = ['test00'] + [str(i/10000) for i in range(3000)]\n",
    "    submission_df = pd.DataFrame(columns=header)\n",
    "    submission_df['test00'] = test_file_names\n",
    "    for i, test_file in enumerate(test_file_names):\n",
    "        data = np.load(test_files_dir + '/' + test_file + '.npy')\n",
    "        df = pd.DataFrame(data, columns=feature_names)\n",
    "        df = df[important_features]\n",
    "        predictions = model.predict(df)\n",
    "        pred = [int(p) for p in predictions]\n",
    "        submission_df.iloc[i, 1:] = pred\n",
    "    return submission_df"
   ]
  },
  {
   "cell_type": "code",
   "execution_count": 11,
   "id": "2001467c",
   "metadata": {},
   "outputs": [],
   "source": [
    "all_train_data, all_val_data, all_train_labels, all_val_labels = get_all_files_from_all_dir()\n",
    "all_train_data = pd.DataFrame(all_train_data, columns=feature_names)\n",
    "all_val_data = pd.DataFrame(all_val_data, columns=feature_names)\n",
    "all_train_labels = pd.DataFrame(all_train_labels, columns=['label'])\n",
    "all_val_labels = pd.DataFrame(all_val_labels, columns=['label'])"
   ]
  },
  {
   "cell_type": "code",
   "execution_count": 22,
   "id": "46b9f43b",
   "metadata": {},
   "outputs": [
    {
     "data": {
      "text/plain": [
       "{0.0: 0.2166504058124357,\n",
       " 1.0: 2.4330497089117777,\n",
       " 2.0: 1.6323812194535694,\n",
       " 3.0: 1.7389309719406807,\n",
       " 4.0: 6.2558532279112615,\n",
       " 5.0: 2.9982340605570066,\n",
       " 6.0: 3.4221466364323505}"
      ]
     },
     "execution_count": 22,
     "metadata": {},
     "output_type": "execute_result"
    }
   ],
   "source": [
    "class_weights = class_weight.compute_class_weight(class_weight = \"balanced\", classes = np.unique(all_train_labels['label']),y = all_train_labels['label'])\n",
    "weights = dict(zip(np.unique(all_train_labels['label']), class_weights))\n",
    "weights\n",
    "# classes = np.unique(all_train_labels['label'])\n",
    "# cw = class_weight.compute_class_weight('balanced', classes, all_train_labels['label'])\n",
    "# weights = dict(zip(classes,cw))"
   ]
  },
  {
   "cell_type": "markdown",
   "id": "83a9b396",
   "metadata": {},
   "source": [
    "<h2>Comparing training and validation dataset distribution</h2>"
   ]
  },
  {
   "cell_type": "code",
   "execution_count": 12,
   "id": "6a60b93e",
   "metadata": {},
   "outputs": [
    {
     "data": {
      "image/png": "[encoded data removed]",
      "text/plain": [
       "<Figure size 1200x600 with 2 Axes>"
      ]
     },
     "metadata": {},
     "output_type": "display_data"
    }
   ],
   "source": [
    "#----------DEALING WITH TRAINING DATA----------\n",
    "unique_nums, counts = np.unique(all_train_labels, return_counts=True)\n",
    "counts = np.round(counts / all_train_labels.shape[0] * 100, 2)\n",
    "\n",
    "# Plot the bar chart\n",
    "fig, ax = plt.subplots(1, 2, figsize=(12, 6))\n",
    "sns.barplot(x=unique_nums, y=counts, ax=ax[0])\n",
    "\n",
    "# Set the labels and title\n",
    "plt.xlabel('Bird Type')\n",
    "plt.ylabel('Percentage')\n",
    "plt.title('Ratio of label distribution in training set')\n",
    "\n",
    "for i, count in enumerate(counts):\n",
    "    ax[0].text(i, count, str(count), ha='center', va='bottom')\n",
    "#----------DEALING WITH TRAINING DATA----------\n",
    "\n",
    "#----------DEALING WITH VALIDATION DATA----------\n",
    "unique_nums, counts = np.unique(all_val_labels, return_counts=True)\n",
    "counts = np.round(counts / all_val_labels.shape[0] * 100, 2)\n",
    "\n",
    "# Plot the bar chart\n",
    "sns.barplot(x=unique_nums, y=counts, ax=ax[1])\n",
    "\n",
    "# Set the labels and title\n",
    "plt.xlabel('Bird Type')\n",
    "plt.ylabel('Percentage')\n",
    "plt.title('Ratio of label distribution in training set')\n",
    "\n",
    "for i, count in enumerate(counts):\n",
    "    ax[1].text(i, count, str(count), ha='center', va='bottom')"
   ]
  },
  {
   "cell_type": "code",
   "execution_count": 13,
   "id": "eefb6664",
   "metadata": {},
   "outputs": [],
   "source": [
    "important_features = ['cln_melspect_mean_7', 'raw_contrast_mean_3', 'cln_contrast_mean_3', 'cln_melspect_mean_8', 'cln_melspect_mean_9', 'cln_melspect_mean_5',\n",
    "       'raw_melspect_std_6', 'cln_melspect_mean_6', 'raw_melspect_std_7',\n",
    "       'cln_contrast_mean_4', 'cln_melspect_mean_4', 'raw_energy_std',\n",
    "       'cln_melspect_mean_10', 'cln_centroid_mean', 'cln_mfcc_mean_0',\n",
    "       'cln_flatness_mean', 'raw_power_std', 'raw_melspect_std_8',\n",
    "       'raw_mfcc_std_0', 'cln_mfcc_mean_9', 'raw_contrast_std_3',\n",
    "       'raw_mfcc_d_std_0', 'raw_contrast_mean_4', 'raw_mfcc_mean_8',\n",
    "       'cln_mfcc_mean_7', 'raw_mfcc_mean_12', 'raw_mfcc_mean_10',\n",
    "       'raw_melspect_std_5', 'raw_flux_std', 'raw_mfcc_mean_7', 'zcr_mean',\n",
    "       'raw_mfcc_mean_9', 'raw_mfcc_mean_16', 'yin_9', 'raw_mfcc_mean_13',\n",
    "       'raw_power_mean', 'raw_melspect_std_9', 'raw_mfcc_std_1',\n",
    "       'cln_contrast_mean_2', 'raw_mfcc_d_std_1', 'yin_6',\n",
    "       'raw_melspect_std_4', 'raw_mfcc_mean_1', 'cln_contrast_std_3',\n",
    "       'cln_mfcc_mean_1', 'yin_5', 'raw_mfcc_mean_15', 'raw_mfcc_mean_3',\n",
    "       'cln_flux_mean', 'raw_mfcc_mean_14']\n",
    "\n",
    "important_features2 = ['raw_contrast_mean_3', 'cln_contrast_mean_3', 'cln_melspect_mean_7', 'cln_melspect_mean_6', 'cln_melspect_mean_8', 'cln_melspect_mean_9', 'cln_melspect_mean_5', 'raw_melspect_std_7', 'raw_melspect_std_6', 'raw_energy_std', 'cln_melspect_mean_4', 'cln_mfcc_mean_0', 'raw_melspect_std_8', 'cln_contrast_mean_4', 'cln_centroid_mean', 'raw_mfcc_std_0', 'raw_mfcc_mean_9', 'raw_flux_std', 'cln_melspect_mean_10', 'raw_power_std', 'raw_mfcc_d_std_0', 'raw_contrast_mean_4', 'raw_mfcc_mean_8', 'raw_contrast_std_3', 'raw_melspect_std_5', 'raw_mfcc_mean_16', 'cln_flatness_mean', 'raw_mfcc_mean_10', 'cln_mfcc_mean_8', 'raw_mfcc_mean_12', 'cln_contrast_mean_2', 'zcr_mean', 'raw_mfcc_mean_7', 'cln_mfcc_mean_9', 'raw_mfcc_mean_13', 'raw_melspect_std_9', 'raw_mfcc_std_1', 'raw_power_mean', 'cln_flux_mean', 'raw_mfcc_d_std_1', 'yin_8', 'raw_mfcc_mean_15', 'raw_mfcc_mean_3', 'raw_mfcc_mean_17', 'yin_6', 'raw_melspect_std_4', 'cln_mfcc_mean_7', 'raw_mfcc_mean_1', 'yin_7', 'raw_contrast_mean_2']"
   ]
  },
  {
   "cell_type": "code",
   "execution_count": 14,
   "id": "52ad7da4",
   "metadata": {},
   "outputs": [],
   "source": [
    "most_correlated_features = ['cln_melspect_mean_10','cln_mfcc_mean_9','raw_melspect_std_34','raw_mfcc_mean_10',\n",
    "                            'cln_contrast_mean_2','cln_melspect_mean_9','raw_contrast_mean_5','raw_melspect_std_30',\n",
    "                            'raw_mfcc_std_1','cln_mfcc_mean_10','cln_flatness_mean','cln_mfcc_mean_7','cln_melspect_mean_8',\n",
    "                            'cln_contrast_mean_5','raw_melspect_std_32','cln_mfcc_mean_4','cln_melspect_mean_6','raw_contrast_mean_3',\n",
    "                            'cln_mfcc_mean_2','raw_mfcc_std_19','cln_melspect_mean_5','raw_mfcc_d_std_0','raw_melspect_std_33',\n",
    "                            'raw_mfcc_d_std_1','cln_melspect_mean_4','cln_centroid_mean','cln_contrast_mean_3','raw_contrast_mean_4',\n",
    "                            'cln_contrast_mean_4','raw_melspect_std_31','raw_mfcc_mean_8','raw_melspect_std_9','cln_melspect_mean_7',\n",
    "                            'raw_melspect_std_8','raw_contrast_std_3','raw_mfcc_mean_9','cln_melspect_mean_3','cln_contrast_std_3',\n",
    "                            'cln_mfcc_mean_8','raw_mfcc_std_0']"
   ]
  },
  {
   "cell_type": "code",
   "execution_count": 15,
   "id": "29801c94",
   "metadata": {},
   "outputs": [
    {
     "name": "stdout",
     "output_type": "stream",
     "text": [
      "45\n"
     ]
    }
   ],
   "source": [
    "set1 = set(important_features)\n",
    "set2 = set(important_features2)\n",
    "\n",
    "common_values = list(set1 & set2)\n",
    "print(len(common_values))"
   ]
  },
  {
   "cell_type": "code",
   "execution_count": 23,
   "id": "a2cea2d3",
   "metadata": {},
   "outputs": [],
   "source": [
    "all_train_data = all_train_data[gbrd_features]\n",
    "all_val_data = all_val_data[gbrd_features]\n",
    "# all_train_data = all_train_data[important_features]\n",
    "# all_val_data = all_val_data[important_features]"
   ]
  },
  {
   "cell_type": "code",
   "execution_count": 24,
   "id": "642182b3",
   "metadata": {},
   "outputs": [
    {
     "data": {
      "text/plain": [
       "(81495, 22)"
      ]
     },
     "execution_count": 24,
     "metadata": {},
     "output_type": "execute_result"
    }
   ],
   "source": [
    "all_train_data.shape"
   ]
  },
  {
   "cell_type": "code",
   "execution_count": 25,
   "id": "f6d11065",
   "metadata": {},
   "outputs": [
    {
     "ename": "NameError",
     "evalue": "name 'DecisionTreeClassifier' is not defined",
     "output_type": "error",
     "traceback": [
      "\u001b[0;31m---------------------------------------------------------------------------\u001b[0m",
      "\u001b[0;31mNameError\u001b[0m                                 Traceback (most recent call last)",
      "Cell \u001b[0;32mIn[25], line 1\u001b[0m\n\u001b[0;32m----> 1\u001b[0m dtc \u001b[38;5;241m=\u001b[39m \u001b[43mDecisionTreeClassifier\u001b[49m(class_weight\u001b[38;5;241m=\u001b[39mweights)\n\u001b[1;32m      2\u001b[0m dtc\u001b[38;5;241m.\u001b[39mfit(all_train_data, all_train_labels[\u001b[38;5;124m'\u001b[39m\u001b[38;5;124mlabel\u001b[39m\u001b[38;5;124m'\u001b[39m])\n\u001b[1;32m      3\u001b[0m y_pred \u001b[38;5;241m=\u001b[39m dtc\u001b[38;5;241m.\u001b[39mpredict(all_val_data)\n",
      "\u001b[0;31mNameError\u001b[0m: name 'DecisionTreeClassifier' is not defined"
     ]
    }
   ],
   "source": [
    "dtc = DecisionTreeClassifier(class_weight=weights)\n",
    "dtc.fit(all_train_data, all_train_labels['label'])\n",
    "y_pred = dtc.predict(all_val_data)"
   ]
  },
  {
   "cell_type": "code",
   "execution_count": 47,
   "id": "08bd4a0d",
   "metadata": {},
   "outputs": [],
   "source": [
    "# Train RandomForestClassifier\n",
    "\n",
    "rf = RandomForestClassifier(n_estimators=300, class_weight='balanced', random_state=42)\n",
    "rf.fit(all_train_data, all_train_labels['label'])\n",
    "y_pred = rf.predict(all_val_data)"
   ]
  },
  {
   "cell_type": "code",
   "execution_count": 44,
   "id": "f099557e",
   "metadata": {},
   "outputs": [
    {
     "ename": "TypeError",
     "evalue": "__init__() got an unexpected keyword argument 'class_weight'",
     "output_type": "error",
     "traceback": [
      "\u001b[0;31m---------------------------------------------------------------------------\u001b[0m",
      "\u001b[0;31mTypeError\u001b[0m                                 Traceback (most recent call last)",
      "Cell \u001b[0;32mIn[44], line 3\u001b[0m\n\u001b[1;32m      1\u001b[0m \u001b[38;5;66;03m# Train GradientBoostingClassifier\u001b[39;00m\n\u001b[0;32m----> 3\u001b[0m gbrf_model \u001b[38;5;241m=\u001b[39m \u001b[43mGradientBoostingClassifier\u001b[49m\u001b[43m(\u001b[49m\u001b[43mn_estimators\u001b[49m\u001b[38;5;241;43m=\u001b[39;49m\u001b[38;5;241;43m300\u001b[39;49m\u001b[43m,\u001b[49m\u001b[43m \u001b[49m\u001b[43mclass_weight\u001b[49m\u001b[38;5;241;43m=\u001b[39;49m\u001b[38;5;124;43m'\u001b[39;49m\u001b[38;5;124;43mbalanced\u001b[39;49m\u001b[38;5;124;43m'\u001b[39;49m\u001b[43m)\u001b[49m\n\u001b[1;32m      4\u001b[0m gbrf_model\u001b[38;5;241m.\u001b[39mfit(all_train_data, all_train_labels[\u001b[38;5;124m'\u001b[39m\u001b[38;5;124mlabel\u001b[39m\u001b[38;5;124m'\u001b[39m], sample_weight\u001b[38;5;241m=\u001b[39mclass_weights)\n\u001b[1;32m      6\u001b[0m \u001b[38;5;66;03m# Use the trained model for predictions\u001b[39;00m\n",
      "\u001b[0;31mTypeError\u001b[0m: __init__() got an unexpected keyword argument 'class_weight'"
     ]
    }
   ],
   "source": [
    "# # Train GradientBoostingClassifier\n",
    "\n",
    "# gbrf_model = GradientBoostingClassifier(n_estimators=300, class_weight='balanced')\n",
    "# gbrf_model.fit(all_train_data, all_train_labels['label'], sample_weight=class_weights)\n",
    "\n",
    "# # Use the trained model for predictions\n",
    "# y_pred = gbrf_model.predict(all_val_data)"
   ]
  },
  {
   "cell_type": "code",
   "execution_count": 25,
   "id": "54f6ca9c",
   "metadata": {},
   "outputs": [],
   "source": [
    "# clf = AdaBoostClassifier(n_estimators=300, random_state=0)\n",
    "# clf.fit(all_train_data, all_train_labels['label'])\n",
    "# y_pred = clf.predict(all_val_data)"
   ]
  },
  {
   "cell_type": "code",
   "execution_count": null,
   "id": "a42d88dc",
   "metadata": {},
   "outputs": [],
   "source": [
    "# Train an SVM classifier\n",
    "\n",
    "param_grid = {\n",
    "    'C': [0.1, 1, 10, 100],  # Different values of C (the regularization parameter)\n",
    "    'kernel': ['linear', 'rbf', 'poly'],  # Different kernel functions\n",
    "    'gamma': [0.1, 1, 10]  # Different values of gamma (kernel coefficient)\n",
    "}\n",
    "\n",
    "# Create the SVM classifier\n",
    "svm_classifier = svm.SVC()\n",
    "\n",
    "# Perform grid search with cross-validation\n",
    "grid_search = GridSearchCV(estimator=svm_classifier, param_grid=param_grid, cv=5)\n",
    "grid_search.fit(all_train_data, all_train_labels['label'])\n",
    "\n",
    "# Print the best parameters found by grid search\n",
    "print(\"Best Parameters: \", grid_search.best_params_)\n",
    "\n",
    "# Train the SVM classifier with the best parameters on the entire training data\n",
    "best_svm_classifier = svm.SVC(**grid_search.best_params_)\n",
    "best_svm_classifier.fit(all_train_data, all_train_labels['label'])"
   ]
  },
  {
   "cell_type": "code",
   "execution_count": 35,
   "id": "d6754777",
   "metadata": {},
   "outputs": [],
   "source": [
    "model1 = GradientBoostingClassifier(n_estimators=300)\n",
    "model2 = AdaBoostClassifier(n_estimators=300)\n",
    "model3 = svm.SVC(C=100, kernel='rbf')"
   ]
  },
  {
   "cell_type": "code",
   "execution_count": 36,
   "id": "a6151e55",
   "metadata": {},
   "outputs": [],
   "source": [
    "ensemble_model = VotingClassifier(estimators=[('gbrf', model1), ('ada', model2), ('svm', model3)], voting='hard')"
   ]
  },
  {
   "cell_type": "code",
   "execution_count": 37,
   "id": "85452204",
   "metadata": {},
   "outputs": [
    {
     "ename": "KeyboardInterrupt",
     "evalue": "",
     "output_type": "error",
     "traceback": [
      "\u001b[0;31m---------------------------------------------------------------------------\u001b[0m",
      "\u001b[0;31mKeyboardInterrupt\u001b[0m                         Traceback (most recent call last)",
      "Cell \u001b[0;32mIn[37], line 1\u001b[0m\n\u001b[0;32m----> 1\u001b[0m \u001b[43mensemble_model\u001b[49m\u001b[38;5;241;43m.\u001b[39;49m\u001b[43mfit\u001b[49m\u001b[43m(\u001b[49m\u001b[43mall_train_data\u001b[49m\u001b[43m,\u001b[49m\u001b[43m \u001b[49m\u001b[43mall_train_labels\u001b[49m\u001b[43m[\u001b[49m\u001b[38;5;124;43m'\u001b[39;49m\u001b[38;5;124;43mlabel\u001b[39;49m\u001b[38;5;124;43m'\u001b[39;49m\u001b[43m]\u001b[49m\u001b[43m)\u001b[49m\n",
      "File \u001b[0;32m~/.pyenv/versions/3.9.16/lib/python3.9/site-packages/sklearn/ensemble/_voting.py:346\u001b[0m, in \u001b[0;36mVotingClassifier.fit\u001b[0;34m(self, X, y, sample_weight)\u001b[0m\n\u001b[1;32m    343\u001b[0m \u001b[38;5;28mself\u001b[39m\u001b[38;5;241m.\u001b[39mclasses_ \u001b[38;5;241m=\u001b[39m \u001b[38;5;28mself\u001b[39m\u001b[38;5;241m.\u001b[39mle_\u001b[38;5;241m.\u001b[39mclasses_\n\u001b[1;32m    344\u001b[0m transformed_y \u001b[38;5;241m=\u001b[39m \u001b[38;5;28mself\u001b[39m\u001b[38;5;241m.\u001b[39mle_\u001b[38;5;241m.\u001b[39mtransform(y)\n\u001b[0;32m--> 346\u001b[0m \u001b[38;5;28;01mreturn\u001b[39;00m \u001b[38;5;28;43msuper\u001b[39;49m\u001b[43m(\u001b[49m\u001b[43m)\u001b[49m\u001b[38;5;241;43m.\u001b[39;49m\u001b[43mfit\u001b[49m\u001b[43m(\u001b[49m\u001b[43mX\u001b[49m\u001b[43m,\u001b[49m\u001b[43m \u001b[49m\u001b[43mtransformed_y\u001b[49m\u001b[43m,\u001b[49m\u001b[43m \u001b[49m\u001b[43msample_weight\u001b[49m\u001b[43m)\u001b[49m\n",
      "File \u001b[0;32m~/.pyenv/versions/3.9.16/lib/python3.9/site-packages/sklearn/ensemble/_voting.py:81\u001b[0m, in \u001b[0;36m_BaseVoting.fit\u001b[0;34m(self, X, y, sample_weight)\u001b[0m\n\u001b[1;32m     75\u001b[0m \u001b[38;5;28;01mif\u001b[39;00m \u001b[38;5;28mself\u001b[39m\u001b[38;5;241m.\u001b[39mweights \u001b[38;5;129;01mis\u001b[39;00m \u001b[38;5;129;01mnot\u001b[39;00m \u001b[38;5;28;01mNone\u001b[39;00m \u001b[38;5;129;01mand\u001b[39;00m \u001b[38;5;28mlen\u001b[39m(\u001b[38;5;28mself\u001b[39m\u001b[38;5;241m.\u001b[39mweights) \u001b[38;5;241m!=\u001b[39m \u001b[38;5;28mlen\u001b[39m(\u001b[38;5;28mself\u001b[39m\u001b[38;5;241m.\u001b[39mestimators):\n\u001b[1;32m     76\u001b[0m     \u001b[38;5;28;01mraise\u001b[39;00m \u001b[38;5;167;01mValueError\u001b[39;00m(\n\u001b[1;32m     77\u001b[0m         \u001b[38;5;124m\"\u001b[39m\u001b[38;5;124mNumber of `estimators` and weights must be equal; got\u001b[39m\u001b[38;5;124m\"\u001b[39m\n\u001b[1;32m     78\u001b[0m         \u001b[38;5;124mf\u001b[39m\u001b[38;5;124m\"\u001b[39m\u001b[38;5;124m \u001b[39m\u001b[38;5;132;01m{\u001b[39;00m\u001b[38;5;28mlen\u001b[39m(\u001b[38;5;28mself\u001b[39m\u001b[38;5;241m.\u001b[39mweights)\u001b[38;5;132;01m}\u001b[39;00m\u001b[38;5;124m weights, \u001b[39m\u001b[38;5;132;01m{\u001b[39;00m\u001b[38;5;28mlen\u001b[39m(\u001b[38;5;28mself\u001b[39m\u001b[38;5;241m.\u001b[39mestimators)\u001b[38;5;132;01m}\u001b[39;00m\u001b[38;5;124m estimators\u001b[39m\u001b[38;5;124m\"\u001b[39m\n\u001b[1;32m     79\u001b[0m     )\n\u001b[0;32m---> 81\u001b[0m \u001b[38;5;28mself\u001b[39m\u001b[38;5;241m.\u001b[39mestimators_ \u001b[38;5;241m=\u001b[39m \u001b[43mParallel\u001b[49m\u001b[43m(\u001b[49m\u001b[43mn_jobs\u001b[49m\u001b[38;5;241;43m=\u001b[39;49m\u001b[38;5;28;43mself\u001b[39;49m\u001b[38;5;241;43m.\u001b[39;49m\u001b[43mn_jobs\u001b[49m\u001b[43m)\u001b[49m\u001b[43m(\u001b[49m\n\u001b[1;32m     82\u001b[0m \u001b[43m    \u001b[49m\u001b[43mdelayed\u001b[49m\u001b[43m(\u001b[49m\u001b[43m_fit_single_estimator\u001b[49m\u001b[43m)\u001b[49m\u001b[43m(\u001b[49m\n\u001b[1;32m     83\u001b[0m \u001b[43m        \u001b[49m\u001b[43mclone\u001b[49m\u001b[43m(\u001b[49m\u001b[43mclf\u001b[49m\u001b[43m)\u001b[49m\u001b[43m,\u001b[49m\n\u001b[1;32m     84\u001b[0m \u001b[43m        \u001b[49m\u001b[43mX\u001b[49m\u001b[43m,\u001b[49m\n\u001b[1;32m     85\u001b[0m \u001b[43m        \u001b[49m\u001b[43my\u001b[49m\u001b[43m,\u001b[49m\n\u001b[1;32m     86\u001b[0m \u001b[43m        \u001b[49m\u001b[43msample_weight\u001b[49m\u001b[38;5;241;43m=\u001b[39;49m\u001b[43msample_weight\u001b[49m\u001b[43m,\u001b[49m\n\u001b[1;32m     87\u001b[0m \u001b[43m        \u001b[49m\u001b[43mmessage_clsname\u001b[49m\u001b[38;5;241;43m=\u001b[39;49m\u001b[38;5;124;43m\"\u001b[39;49m\u001b[38;5;124;43mVoting\u001b[39;49m\u001b[38;5;124;43m\"\u001b[39;49m\u001b[43m,\u001b[49m\n\u001b[1;32m     88\u001b[0m \u001b[43m        \u001b[49m\u001b[43mmessage\u001b[49m\u001b[38;5;241;43m=\u001b[39;49m\u001b[38;5;28;43mself\u001b[39;49m\u001b[38;5;241;43m.\u001b[39;49m\u001b[43m_log_message\u001b[49m\u001b[43m(\u001b[49m\u001b[43mnames\u001b[49m\u001b[43m[\u001b[49m\u001b[43midx\u001b[49m\u001b[43m]\u001b[49m\u001b[43m,\u001b[49m\u001b[43m \u001b[49m\u001b[43midx\u001b[49m\u001b[43m \u001b[49m\u001b[38;5;241;43m+\u001b[39;49m\u001b[43m \u001b[49m\u001b[38;5;241;43m1\u001b[39;49m\u001b[43m,\u001b[49m\u001b[43m \u001b[49m\u001b[38;5;28;43mlen\u001b[39;49m\u001b[43m(\u001b[49m\u001b[43mclfs\u001b[49m\u001b[43m)\u001b[49m\u001b[43m)\u001b[49m\u001b[43m,\u001b[49m\n\u001b[1;32m     89\u001b[0m \u001b[43m    \u001b[49m\u001b[43m)\u001b[49m\n\u001b[1;32m     90\u001b[0m \u001b[43m    \u001b[49m\u001b[38;5;28;43;01mfor\u001b[39;49;00m\u001b[43m \u001b[49m\u001b[43midx\u001b[49m\u001b[43m,\u001b[49m\u001b[43m \u001b[49m\u001b[43mclf\u001b[49m\u001b[43m \u001b[49m\u001b[38;5;129;43;01min\u001b[39;49;00m\u001b[43m \u001b[49m\u001b[38;5;28;43menumerate\u001b[39;49m\u001b[43m(\u001b[49m\u001b[43mclfs\u001b[49m\u001b[43m)\u001b[49m\n\u001b[1;32m     91\u001b[0m \u001b[43m    \u001b[49m\u001b[38;5;28;43;01mif\u001b[39;49;00m\u001b[43m \u001b[49m\u001b[43mclf\u001b[49m\u001b[43m \u001b[49m\u001b[38;5;241;43m!=\u001b[39;49m\u001b[43m \u001b[49m\u001b[38;5;124;43m\"\u001b[39;49m\u001b[38;5;124;43mdrop\u001b[39;49m\u001b[38;5;124;43m\"\u001b[39;49m\n\u001b[1;32m     92\u001b[0m \u001b[43m\u001b[49m\u001b[43m)\u001b[49m\n\u001b[1;32m     94\u001b[0m \u001b[38;5;28mself\u001b[39m\u001b[38;5;241m.\u001b[39mnamed_estimators_ \u001b[38;5;241m=\u001b[39m Bunch()\n\u001b[1;32m     96\u001b[0m \u001b[38;5;66;03m# Uses 'drop' as placeholder for dropped estimators\u001b[39;00m\n",
      "File \u001b[0;32m~/.pyenv/versions/3.9.16/lib/python3.9/site-packages/sklearn/utils/parallel.py:63\u001b[0m, in \u001b[0;36mParallel.__call__\u001b[0;34m(self, iterable)\u001b[0m\n\u001b[1;32m     58\u001b[0m config \u001b[38;5;241m=\u001b[39m get_config()\n\u001b[1;32m     59\u001b[0m iterable_with_config \u001b[38;5;241m=\u001b[39m (\n\u001b[1;32m     60\u001b[0m     (_with_config(delayed_func, config), args, kwargs)\n\u001b[1;32m     61\u001b[0m     \u001b[38;5;28;01mfor\u001b[39;00m delayed_func, args, kwargs \u001b[38;5;129;01min\u001b[39;00m iterable\n\u001b[1;32m     62\u001b[0m )\n\u001b[0;32m---> 63\u001b[0m \u001b[38;5;28;01mreturn\u001b[39;00m \u001b[38;5;28;43msuper\u001b[39;49m\u001b[43m(\u001b[49m\u001b[43m)\u001b[49m\u001b[38;5;241;43m.\u001b[39;49m\u001b[38;5;21;43m__call__\u001b[39;49m\u001b[43m(\u001b[49m\u001b[43miterable_with_config\u001b[49m\u001b[43m)\u001b[49m\n",
      "File \u001b[0;32m~/.pyenv/versions/3.9.16/lib/python3.9/site-packages/joblib/parallel.py:1085\u001b[0m, in \u001b[0;36mParallel.__call__\u001b[0;34m(self, iterable)\u001b[0m\n\u001b[1;32m   1076\u001b[0m \u001b[38;5;28;01mtry\u001b[39;00m:\n\u001b[1;32m   1077\u001b[0m     \u001b[38;5;66;03m# Only set self._iterating to True if at least a batch\u001b[39;00m\n\u001b[1;32m   1078\u001b[0m     \u001b[38;5;66;03m# was dispatched. In particular this covers the edge\u001b[39;00m\n\u001b[0;32m   (...)\u001b[0m\n\u001b[1;32m   1082\u001b[0m     \u001b[38;5;66;03m# was very quick and its callback already dispatched all the\u001b[39;00m\n\u001b[1;32m   1083\u001b[0m     \u001b[38;5;66;03m# remaining jobs.\u001b[39;00m\n\u001b[1;32m   1084\u001b[0m     \u001b[38;5;28mself\u001b[39m\u001b[38;5;241m.\u001b[39m_iterating \u001b[38;5;241m=\u001b[39m \u001b[38;5;28;01mFalse\u001b[39;00m\n\u001b[0;32m-> 1085\u001b[0m     \u001b[38;5;28;01mif\u001b[39;00m \u001b[38;5;28;43mself\u001b[39;49m\u001b[38;5;241;43m.\u001b[39;49m\u001b[43mdispatch_one_batch\u001b[49m\u001b[43m(\u001b[49m\u001b[43miterator\u001b[49m\u001b[43m)\u001b[49m:\n\u001b[1;32m   1086\u001b[0m         \u001b[38;5;28mself\u001b[39m\u001b[38;5;241m.\u001b[39m_iterating \u001b[38;5;241m=\u001b[39m \u001b[38;5;28mself\u001b[39m\u001b[38;5;241m.\u001b[39m_original_iterator \u001b[38;5;129;01mis\u001b[39;00m \u001b[38;5;129;01mnot\u001b[39;00m \u001b[38;5;28;01mNone\u001b[39;00m\n\u001b[1;32m   1088\u001b[0m     \u001b[38;5;28;01mwhile\u001b[39;00m \u001b[38;5;28mself\u001b[39m\u001b[38;5;241m.\u001b[39mdispatch_one_batch(iterator):\n",
      "File \u001b[0;32m~/.pyenv/versions/3.9.16/lib/python3.9/site-packages/joblib/parallel.py:901\u001b[0m, in \u001b[0;36mParallel.dispatch_one_batch\u001b[0;34m(self, iterator)\u001b[0m\n\u001b[1;32m    899\u001b[0m     \u001b[38;5;28;01mreturn\u001b[39;00m \u001b[38;5;28;01mFalse\u001b[39;00m\n\u001b[1;32m    900\u001b[0m \u001b[38;5;28;01melse\u001b[39;00m:\n\u001b[0;32m--> 901\u001b[0m     \u001b[38;5;28;43mself\u001b[39;49m\u001b[38;5;241;43m.\u001b[39;49m\u001b[43m_dispatch\u001b[49m\u001b[43m(\u001b[49m\u001b[43mtasks\u001b[49m\u001b[43m)\u001b[49m\n\u001b[1;32m    902\u001b[0m     \u001b[38;5;28;01mreturn\u001b[39;00m \u001b[38;5;28;01mTrue\u001b[39;00m\n",
      "File \u001b[0;32m~/.pyenv/versions/3.9.16/lib/python3.9/site-packages/joblib/parallel.py:819\u001b[0m, in \u001b[0;36mParallel._dispatch\u001b[0;34m(self, batch)\u001b[0m\n\u001b[1;32m    817\u001b[0m \u001b[38;5;28;01mwith\u001b[39;00m \u001b[38;5;28mself\u001b[39m\u001b[38;5;241m.\u001b[39m_lock:\n\u001b[1;32m    818\u001b[0m     job_idx \u001b[38;5;241m=\u001b[39m \u001b[38;5;28mlen\u001b[39m(\u001b[38;5;28mself\u001b[39m\u001b[38;5;241m.\u001b[39m_jobs)\n\u001b[0;32m--> 819\u001b[0m     job \u001b[38;5;241m=\u001b[39m \u001b[38;5;28;43mself\u001b[39;49m\u001b[38;5;241;43m.\u001b[39;49m\u001b[43m_backend\u001b[49m\u001b[38;5;241;43m.\u001b[39;49m\u001b[43mapply_async\u001b[49m\u001b[43m(\u001b[49m\u001b[43mbatch\u001b[49m\u001b[43m,\u001b[49m\u001b[43m \u001b[49m\u001b[43mcallback\u001b[49m\u001b[38;5;241;43m=\u001b[39;49m\u001b[43mcb\u001b[49m\u001b[43m)\u001b[49m\n\u001b[1;32m    820\u001b[0m     \u001b[38;5;66;03m# A job can complete so quickly than its callback is\u001b[39;00m\n\u001b[1;32m    821\u001b[0m     \u001b[38;5;66;03m# called before we get here, causing self._jobs to\u001b[39;00m\n\u001b[1;32m    822\u001b[0m     \u001b[38;5;66;03m# grow. To ensure correct results ordering, .insert is\u001b[39;00m\n\u001b[1;32m    823\u001b[0m     \u001b[38;5;66;03m# used (rather than .append) in the following line\u001b[39;00m\n\u001b[1;32m    824\u001b[0m     \u001b[38;5;28mself\u001b[39m\u001b[38;5;241m.\u001b[39m_jobs\u001b[38;5;241m.\u001b[39minsert(job_idx, job)\n",
      "File \u001b[0;32m~/.pyenv/versions/3.9.16/lib/python3.9/site-packages/joblib/_parallel_backends.py:208\u001b[0m, in \u001b[0;36mSequentialBackend.apply_async\u001b[0;34m(self, func, callback)\u001b[0m\n\u001b[1;32m    206\u001b[0m \u001b[38;5;28;01mdef\u001b[39;00m \u001b[38;5;21mapply_async\u001b[39m(\u001b[38;5;28mself\u001b[39m, func, callback\u001b[38;5;241m=\u001b[39m\u001b[38;5;28;01mNone\u001b[39;00m):\n\u001b[1;32m    207\u001b[0m \u001b[38;5;250m    \u001b[39m\u001b[38;5;124;03m\"\"\"Schedule a func to be run\"\"\"\u001b[39;00m\n\u001b[0;32m--> 208\u001b[0m     result \u001b[38;5;241m=\u001b[39m \u001b[43mImmediateResult\u001b[49m\u001b[43m(\u001b[49m\u001b[43mfunc\u001b[49m\u001b[43m)\u001b[49m\n\u001b[1;32m    209\u001b[0m     \u001b[38;5;28;01mif\u001b[39;00m callback:\n\u001b[1;32m    210\u001b[0m         callback(result)\n",
      "File \u001b[0;32m~/.pyenv/versions/3.9.16/lib/python3.9/site-packages/joblib/_parallel_backends.py:597\u001b[0m, in \u001b[0;36mImmediateResult.__init__\u001b[0;34m(self, batch)\u001b[0m\n\u001b[1;32m    594\u001b[0m \u001b[38;5;28;01mdef\u001b[39;00m \u001b[38;5;21m__init__\u001b[39m(\u001b[38;5;28mself\u001b[39m, batch):\n\u001b[1;32m    595\u001b[0m     \u001b[38;5;66;03m# Don't delay the application, to avoid keeping the input\u001b[39;00m\n\u001b[1;32m    596\u001b[0m     \u001b[38;5;66;03m# arguments in memory\u001b[39;00m\n\u001b[0;32m--> 597\u001b[0m     \u001b[38;5;28mself\u001b[39m\u001b[38;5;241m.\u001b[39mresults \u001b[38;5;241m=\u001b[39m \u001b[43mbatch\u001b[49m\u001b[43m(\u001b[49m\u001b[43m)\u001b[49m\n",
      "File \u001b[0;32m~/.pyenv/versions/3.9.16/lib/python3.9/site-packages/joblib/parallel.py:288\u001b[0m, in \u001b[0;36mBatchedCalls.__call__\u001b[0;34m(self)\u001b[0m\n\u001b[1;32m    284\u001b[0m \u001b[38;5;28;01mdef\u001b[39;00m \u001b[38;5;21m__call__\u001b[39m(\u001b[38;5;28mself\u001b[39m):\n\u001b[1;32m    285\u001b[0m     \u001b[38;5;66;03m# Set the default nested backend to self._backend but do not set the\u001b[39;00m\n\u001b[1;32m    286\u001b[0m     \u001b[38;5;66;03m# change the default number of processes to -1\u001b[39;00m\n\u001b[1;32m    287\u001b[0m     \u001b[38;5;28;01mwith\u001b[39;00m parallel_backend(\u001b[38;5;28mself\u001b[39m\u001b[38;5;241m.\u001b[39m_backend, n_jobs\u001b[38;5;241m=\u001b[39m\u001b[38;5;28mself\u001b[39m\u001b[38;5;241m.\u001b[39m_n_jobs):\n\u001b[0;32m--> 288\u001b[0m         \u001b[38;5;28;01mreturn\u001b[39;00m [func(\u001b[38;5;241m*\u001b[39margs, \u001b[38;5;241m*\u001b[39m\u001b[38;5;241m*\u001b[39mkwargs)\n\u001b[1;32m    289\u001b[0m                 \u001b[38;5;28;01mfor\u001b[39;00m func, args, kwargs \u001b[38;5;129;01min\u001b[39;00m \u001b[38;5;28mself\u001b[39m\u001b[38;5;241m.\u001b[39mitems]\n",
      "File \u001b[0;32m~/.pyenv/versions/3.9.16/lib/python3.9/site-packages/joblib/parallel.py:288\u001b[0m, in \u001b[0;36m<listcomp>\u001b[0;34m(.0)\u001b[0m\n\u001b[1;32m    284\u001b[0m \u001b[38;5;28;01mdef\u001b[39;00m \u001b[38;5;21m__call__\u001b[39m(\u001b[38;5;28mself\u001b[39m):\n\u001b[1;32m    285\u001b[0m     \u001b[38;5;66;03m# Set the default nested backend to self._backend but do not set the\u001b[39;00m\n\u001b[1;32m    286\u001b[0m     \u001b[38;5;66;03m# change the default number of processes to -1\u001b[39;00m\n\u001b[1;32m    287\u001b[0m     \u001b[38;5;28;01mwith\u001b[39;00m parallel_backend(\u001b[38;5;28mself\u001b[39m\u001b[38;5;241m.\u001b[39m_backend, n_jobs\u001b[38;5;241m=\u001b[39m\u001b[38;5;28mself\u001b[39m\u001b[38;5;241m.\u001b[39m_n_jobs):\n\u001b[0;32m--> 288\u001b[0m         \u001b[38;5;28;01mreturn\u001b[39;00m [\u001b[43mfunc\u001b[49m\u001b[43m(\u001b[49m\u001b[38;5;241;43m*\u001b[39;49m\u001b[43margs\u001b[49m\u001b[43m,\u001b[49m\u001b[43m \u001b[49m\u001b[38;5;241;43m*\u001b[39;49m\u001b[38;5;241;43m*\u001b[39;49m\u001b[43mkwargs\u001b[49m\u001b[43m)\u001b[49m\n\u001b[1;32m    289\u001b[0m                 \u001b[38;5;28;01mfor\u001b[39;00m func, args, kwargs \u001b[38;5;129;01min\u001b[39;00m \u001b[38;5;28mself\u001b[39m\u001b[38;5;241m.\u001b[39mitems]\n",
      "File \u001b[0;32m~/.pyenv/versions/3.9.16/lib/python3.9/site-packages/sklearn/utils/parallel.py:123\u001b[0m, in \u001b[0;36m_FuncWrapper.__call__\u001b[0;34m(self, *args, **kwargs)\u001b[0m\n\u001b[1;32m    121\u001b[0m     config \u001b[38;5;241m=\u001b[39m {}\n\u001b[1;32m    122\u001b[0m \u001b[38;5;28;01mwith\u001b[39;00m config_context(\u001b[38;5;241m*\u001b[39m\u001b[38;5;241m*\u001b[39mconfig):\n\u001b[0;32m--> 123\u001b[0m     \u001b[38;5;28;01mreturn\u001b[39;00m \u001b[38;5;28;43mself\u001b[39;49m\u001b[38;5;241;43m.\u001b[39;49m\u001b[43mfunction\u001b[49m\u001b[43m(\u001b[49m\u001b[38;5;241;43m*\u001b[39;49m\u001b[43margs\u001b[49m\u001b[43m,\u001b[49m\u001b[43m \u001b[49m\u001b[38;5;241;43m*\u001b[39;49m\u001b[38;5;241;43m*\u001b[39;49m\u001b[43mkwargs\u001b[49m\u001b[43m)\u001b[49m\n",
      "File \u001b[0;32m~/.pyenv/versions/3.9.16/lib/python3.9/site-packages/sklearn/ensemble/_base.py:46\u001b[0m, in \u001b[0;36m_fit_single_estimator\u001b[0;34m(estimator, X, y, sample_weight, message_clsname, message)\u001b[0m\n\u001b[1;32m     44\u001b[0m \u001b[38;5;28;01melse\u001b[39;00m:\n\u001b[1;32m     45\u001b[0m     \u001b[38;5;28;01mwith\u001b[39;00m _print_elapsed_time(message_clsname, message):\n\u001b[0;32m---> 46\u001b[0m         \u001b[43mestimator\u001b[49m\u001b[38;5;241;43m.\u001b[39;49m\u001b[43mfit\u001b[49m\u001b[43m(\u001b[49m\u001b[43mX\u001b[49m\u001b[43m,\u001b[49m\u001b[43m \u001b[49m\u001b[43my\u001b[49m\u001b[43m)\u001b[49m\n\u001b[1;32m     47\u001b[0m \u001b[38;5;28;01mreturn\u001b[39;00m estimator\n",
      "File \u001b[0;32m~/.pyenv/versions/3.9.16/lib/python3.9/site-packages/sklearn/ensemble/_gb.py:538\u001b[0m, in \u001b[0;36mBaseGradientBoosting.fit\u001b[0;34m(self, X, y, sample_weight, monitor)\u001b[0m\n\u001b[1;32m    535\u001b[0m     \u001b[38;5;28mself\u001b[39m\u001b[38;5;241m.\u001b[39m_resize_state()\n\u001b[1;32m    537\u001b[0m \u001b[38;5;66;03m# fit the boosting stages\u001b[39;00m\n\u001b[0;32m--> 538\u001b[0m n_stages \u001b[38;5;241m=\u001b[39m \u001b[38;5;28;43mself\u001b[39;49m\u001b[38;5;241;43m.\u001b[39;49m\u001b[43m_fit_stages\u001b[49m\u001b[43m(\u001b[49m\n\u001b[1;32m    539\u001b[0m \u001b[43m    \u001b[49m\u001b[43mX\u001b[49m\u001b[43m,\u001b[49m\n\u001b[1;32m    540\u001b[0m \u001b[43m    \u001b[49m\u001b[43my\u001b[49m\u001b[43m,\u001b[49m\n\u001b[1;32m    541\u001b[0m \u001b[43m    \u001b[49m\u001b[43mraw_predictions\u001b[49m\u001b[43m,\u001b[49m\n\u001b[1;32m    542\u001b[0m \u001b[43m    \u001b[49m\u001b[43msample_weight\u001b[49m\u001b[43m,\u001b[49m\n\u001b[1;32m    543\u001b[0m \u001b[43m    \u001b[49m\u001b[38;5;28;43mself\u001b[39;49m\u001b[38;5;241;43m.\u001b[39;49m\u001b[43m_rng\u001b[49m\u001b[43m,\u001b[49m\n\u001b[1;32m    544\u001b[0m \u001b[43m    \u001b[49m\u001b[43mX_val\u001b[49m\u001b[43m,\u001b[49m\n\u001b[1;32m    545\u001b[0m \u001b[43m    \u001b[49m\u001b[43my_val\u001b[49m\u001b[43m,\u001b[49m\n\u001b[1;32m    546\u001b[0m \u001b[43m    \u001b[49m\u001b[43msample_weight_val\u001b[49m\u001b[43m,\u001b[49m\n\u001b[1;32m    547\u001b[0m \u001b[43m    \u001b[49m\u001b[43mbegin_at_stage\u001b[49m\u001b[43m,\u001b[49m\n\u001b[1;32m    548\u001b[0m \u001b[43m    \u001b[49m\u001b[43mmonitor\u001b[49m\u001b[43m,\u001b[49m\n\u001b[1;32m    549\u001b[0m \u001b[43m\u001b[49m\u001b[43m)\u001b[49m\n\u001b[1;32m    551\u001b[0m \u001b[38;5;66;03m# change shape of arrays after fit (early-stopping or additional ests)\u001b[39;00m\n\u001b[1;32m    552\u001b[0m \u001b[38;5;28;01mif\u001b[39;00m n_stages \u001b[38;5;241m!=\u001b[39m \u001b[38;5;28mself\u001b[39m\u001b[38;5;241m.\u001b[39mestimators_\u001b[38;5;241m.\u001b[39mshape[\u001b[38;5;241m0\u001b[39m]:\n",
      "File \u001b[0;32m~/.pyenv/versions/3.9.16/lib/python3.9/site-packages/sklearn/ensemble/_gb.py:615\u001b[0m, in \u001b[0;36mBaseGradientBoosting._fit_stages\u001b[0;34m(self, X, y, raw_predictions, sample_weight, random_state, X_val, y_val, sample_weight_val, begin_at_stage, monitor)\u001b[0m\n\u001b[1;32m    608\u001b[0m     old_oob_score \u001b[38;5;241m=\u001b[39m loss_(\n\u001b[1;32m    609\u001b[0m         y[\u001b[38;5;241m~\u001b[39msample_mask],\n\u001b[1;32m    610\u001b[0m         raw_predictions[\u001b[38;5;241m~\u001b[39msample_mask],\n\u001b[1;32m    611\u001b[0m         sample_weight[\u001b[38;5;241m~\u001b[39msample_mask],\n\u001b[1;32m    612\u001b[0m     )\n\u001b[1;32m    614\u001b[0m \u001b[38;5;66;03m# fit next stage of trees\u001b[39;00m\n\u001b[0;32m--> 615\u001b[0m raw_predictions \u001b[38;5;241m=\u001b[39m \u001b[38;5;28;43mself\u001b[39;49m\u001b[38;5;241;43m.\u001b[39;49m\u001b[43m_fit_stage\u001b[49m\u001b[43m(\u001b[49m\n\u001b[1;32m    616\u001b[0m \u001b[43m    \u001b[49m\u001b[43mi\u001b[49m\u001b[43m,\u001b[49m\n\u001b[1;32m    617\u001b[0m \u001b[43m    \u001b[49m\u001b[43mX\u001b[49m\u001b[43m,\u001b[49m\n\u001b[1;32m    618\u001b[0m \u001b[43m    \u001b[49m\u001b[43my\u001b[49m\u001b[43m,\u001b[49m\n\u001b[1;32m    619\u001b[0m \u001b[43m    \u001b[49m\u001b[43mraw_predictions\u001b[49m\u001b[43m,\u001b[49m\n\u001b[1;32m    620\u001b[0m \u001b[43m    \u001b[49m\u001b[43msample_weight\u001b[49m\u001b[43m,\u001b[49m\n\u001b[1;32m    621\u001b[0m \u001b[43m    \u001b[49m\u001b[43msample_mask\u001b[49m\u001b[43m,\u001b[49m\n\u001b[1;32m    622\u001b[0m \u001b[43m    \u001b[49m\u001b[43mrandom_state\u001b[49m\u001b[43m,\u001b[49m\n\u001b[1;32m    623\u001b[0m \u001b[43m    \u001b[49m\u001b[43mX_csc\u001b[49m\u001b[43m,\u001b[49m\n\u001b[1;32m    624\u001b[0m \u001b[43m    \u001b[49m\u001b[43mX_csr\u001b[49m\u001b[43m,\u001b[49m\n\u001b[1;32m    625\u001b[0m \u001b[43m\u001b[49m\u001b[43m)\u001b[49m\n\u001b[1;32m    627\u001b[0m \u001b[38;5;66;03m# track deviance (= loss)\u001b[39;00m\n\u001b[1;32m    628\u001b[0m \u001b[38;5;28;01mif\u001b[39;00m do_oob:\n",
      "File \u001b[0;32m~/.pyenv/versions/3.9.16/lib/python3.9/site-packages/sklearn/ensemble/_gb.py:257\u001b[0m, in \u001b[0;36mBaseGradientBoosting._fit_stage\u001b[0;34m(self, i, X, y, raw_predictions, sample_weight, sample_mask, random_state, X_csc, X_csr)\u001b[0m\n\u001b[1;32m    254\u001b[0m     sample_weight \u001b[38;5;241m=\u001b[39m sample_weight \u001b[38;5;241m*\u001b[39m sample_mask\u001b[38;5;241m.\u001b[39mastype(np\u001b[38;5;241m.\u001b[39mfloat64)\n\u001b[1;32m    256\u001b[0m X \u001b[38;5;241m=\u001b[39m X_csr \u001b[38;5;28;01mif\u001b[39;00m X_csr \u001b[38;5;129;01mis\u001b[39;00m \u001b[38;5;129;01mnot\u001b[39;00m \u001b[38;5;28;01mNone\u001b[39;00m \u001b[38;5;28;01melse\u001b[39;00m X\n\u001b[0;32m--> 257\u001b[0m \u001b[43mtree\u001b[49m\u001b[38;5;241;43m.\u001b[39;49m\u001b[43mfit\u001b[49m\u001b[43m(\u001b[49m\u001b[43mX\u001b[49m\u001b[43m,\u001b[49m\u001b[43m \u001b[49m\u001b[43mresidual\u001b[49m\u001b[43m,\u001b[49m\u001b[43m \u001b[49m\u001b[43msample_weight\u001b[49m\u001b[38;5;241;43m=\u001b[39;49m\u001b[43msample_weight\u001b[49m\u001b[43m,\u001b[49m\u001b[43m \u001b[49m\u001b[43mcheck_input\u001b[49m\u001b[38;5;241;43m=\u001b[39;49m\u001b[38;5;28;43;01mFalse\u001b[39;49;00m\u001b[43m)\u001b[49m\n\u001b[1;32m    259\u001b[0m \u001b[38;5;66;03m# update tree leaves\u001b[39;00m\n\u001b[1;32m    260\u001b[0m loss\u001b[38;5;241m.\u001b[39mupdate_terminal_regions(\n\u001b[1;32m    261\u001b[0m     tree\u001b[38;5;241m.\u001b[39mtree_,\n\u001b[1;32m    262\u001b[0m     X,\n\u001b[0;32m   (...)\u001b[0m\n\u001b[1;32m    269\u001b[0m     k\u001b[38;5;241m=\u001b[39mk,\n\u001b[1;32m    270\u001b[0m )\n",
      "File \u001b[0;32m~/.pyenv/versions/3.9.16/lib/python3.9/site-packages/sklearn/tree/_classes.py:1247\u001b[0m, in \u001b[0;36mDecisionTreeRegressor.fit\u001b[0;34m(self, X, y, sample_weight, check_input)\u001b[0m\n\u001b[1;32m   1218\u001b[0m \u001b[38;5;28;01mdef\u001b[39;00m \u001b[38;5;21mfit\u001b[39m(\u001b[38;5;28mself\u001b[39m, X, y, sample_weight\u001b[38;5;241m=\u001b[39m\u001b[38;5;28;01mNone\u001b[39;00m, check_input\u001b[38;5;241m=\u001b[39m\u001b[38;5;28;01mTrue\u001b[39;00m):\n\u001b[1;32m   1219\u001b[0m \u001b[38;5;250m    \u001b[39m\u001b[38;5;124;03m\"\"\"Build a decision tree regressor from the training set (X, y).\u001b[39;00m\n\u001b[1;32m   1220\u001b[0m \n\u001b[1;32m   1221\u001b[0m \u001b[38;5;124;03m    Parameters\u001b[39;00m\n\u001b[0;32m   (...)\u001b[0m\n\u001b[1;32m   1244\u001b[0m \u001b[38;5;124;03m        Fitted estimator.\u001b[39;00m\n\u001b[1;32m   1245\u001b[0m \u001b[38;5;124;03m    \"\"\"\u001b[39;00m\n\u001b[0;32m-> 1247\u001b[0m     \u001b[38;5;28;43msuper\u001b[39;49m\u001b[43m(\u001b[49m\u001b[43m)\u001b[49m\u001b[38;5;241;43m.\u001b[39;49m\u001b[43mfit\u001b[49m\u001b[43m(\u001b[49m\n\u001b[1;32m   1248\u001b[0m \u001b[43m        \u001b[49m\u001b[43mX\u001b[49m\u001b[43m,\u001b[49m\n\u001b[1;32m   1249\u001b[0m \u001b[43m        \u001b[49m\u001b[43my\u001b[49m\u001b[43m,\u001b[49m\n\u001b[1;32m   1250\u001b[0m \u001b[43m        \u001b[49m\u001b[43msample_weight\u001b[49m\u001b[38;5;241;43m=\u001b[39;49m\u001b[43msample_weight\u001b[49m\u001b[43m,\u001b[49m\n\u001b[1;32m   1251\u001b[0m \u001b[43m        \u001b[49m\u001b[43mcheck_input\u001b[49m\u001b[38;5;241;43m=\u001b[39;49m\u001b[43mcheck_input\u001b[49m\u001b[43m,\u001b[49m\n\u001b[1;32m   1252\u001b[0m \u001b[43m    \u001b[49m\u001b[43m)\u001b[49m\n\u001b[1;32m   1253\u001b[0m     \u001b[38;5;28;01mreturn\u001b[39;00m \u001b[38;5;28mself\u001b[39m\n",
      "File \u001b[0;32m~/.pyenv/versions/3.9.16/lib/python3.9/site-packages/sklearn/tree/_classes.py:379\u001b[0m, in \u001b[0;36mBaseDecisionTree.fit\u001b[0;34m(self, X, y, sample_weight, check_input)\u001b[0m\n\u001b[1;32m    368\u001b[0m \u001b[38;5;28;01melse\u001b[39;00m:\n\u001b[1;32m    369\u001b[0m     builder \u001b[38;5;241m=\u001b[39m BestFirstTreeBuilder(\n\u001b[1;32m    370\u001b[0m         splitter,\n\u001b[1;32m    371\u001b[0m         min_samples_split,\n\u001b[0;32m   (...)\u001b[0m\n\u001b[1;32m    376\u001b[0m         \u001b[38;5;28mself\u001b[39m\u001b[38;5;241m.\u001b[39mmin_impurity_decrease,\n\u001b[1;32m    377\u001b[0m     )\n\u001b[0;32m--> 379\u001b[0m \u001b[43mbuilder\u001b[49m\u001b[38;5;241;43m.\u001b[39;49m\u001b[43mbuild\u001b[49m\u001b[43m(\u001b[49m\u001b[38;5;28;43mself\u001b[39;49m\u001b[38;5;241;43m.\u001b[39;49m\u001b[43mtree_\u001b[49m\u001b[43m,\u001b[49m\u001b[43m \u001b[49m\u001b[43mX\u001b[49m\u001b[43m,\u001b[49m\u001b[43m \u001b[49m\u001b[43my\u001b[49m\u001b[43m,\u001b[49m\u001b[43m \u001b[49m\u001b[43msample_weight\u001b[49m\u001b[43m)\u001b[49m\n\u001b[1;32m    381\u001b[0m \u001b[38;5;28;01mif\u001b[39;00m \u001b[38;5;28mself\u001b[39m\u001b[38;5;241m.\u001b[39mn_outputs_ \u001b[38;5;241m==\u001b[39m \u001b[38;5;241m1\u001b[39m \u001b[38;5;129;01mand\u001b[39;00m is_classifier(\u001b[38;5;28mself\u001b[39m):\n\u001b[1;32m    382\u001b[0m     \u001b[38;5;28mself\u001b[39m\u001b[38;5;241m.\u001b[39mn_classes_ \u001b[38;5;241m=\u001b[39m \u001b[38;5;28mself\u001b[39m\u001b[38;5;241m.\u001b[39mn_classes_[\u001b[38;5;241m0\u001b[39m]\n",
      "\u001b[0;31mKeyboardInterrupt\u001b[0m: "
     ]
    }
   ],
   "source": [
    "ensemble_model.fit(all_train_data, all_train_labels['label'])"
   ]
  },
  {
   "cell_type": "code",
   "execution_count": 44,
   "id": "22d49ff8",
   "metadata": {},
   "outputs": [],
   "source": [
    "y_pred = ensemble_model.predict(all_val_data)"
   ]
  },
  {
   "cell_type": "code",
   "execution_count": 18,
   "id": "3688cc6e",
   "metadata": {},
   "outputs": [],
   "source": [
    "# # Save the trained model to a file\n",
    "# filename = 'gbrf_model_full_features.sav'\n",
    "# pickle.dump(gbrf_model, open(filename, 'wb'))"
   ]
  },
  {
   "cell_type": "code",
   "execution_count": 30,
   "id": "6922b84c",
   "metadata": {},
   "outputs": [
    {
     "data": {
      "text/plain": [
       "(35, 2)"
      ]
     },
     "execution_count": 30,
     "metadata": {},
     "output_type": "execute_result"
    }
   ],
   "source": [
    "# feature_importances = clf.feature_importances_\n",
    "\n",
    "# # Create a dataframe to hold the feature importances\n",
    "# importance_df = pd.DataFrame({'Feature': all_train_data.columns, 'Importance': feature_importances})\n",
    "\n",
    "# # Order the dataframe by importance in descending order\n",
    "# importance_df = importance_df.sort_values(by='Importance', ascending=False)\n",
    "# importance_df[importance_df['Importance'] >= 0.01].shape\n",
    "# # Select the top n features\n",
    "# # n = 22  # Set the desired number of top features\n",
    "# # top_n_features = importance_df.head(n)\n",
    "\n",
    "# # Display the top n features\n",
    "# # print(list(top_n_features['Feature']))"
   ]
  },
  {
   "cell_type": "code",
   "execution_count": 48,
   "id": "0c3b8d92",
   "metadata": {},
   "outputs": [],
   "source": [
    "total_cost = cost_function(all_val_labels['label'], y_pred, REVENUES)"
   ]
  },
  {
   "cell_type": "code",
   "execution_count": 77,
   "id": "06e707c7",
   "metadata": {},
   "outputs": [
    {
     "data": {
      "text/plain": [
       "5459.880000001017"
      ]
     },
     "execution_count": 77,
     "metadata": {},
     "output_type": "execute_result"
    }
   ],
   "source": [
    "# n_estimators=300\n",
    "# max_depth=None\n",
    "total_cost"
   ]
  },
  {
   "cell_type": "code",
   "execution_count": 49,
   "id": "ea379943",
   "metadata": {},
   "outputs": [
    {
     "data": {
      "text/plain": [
       "5047.970000000887"
      ]
     },
     "execution_count": 49,
     "metadata": {},
     "output_type": "execute_result"
    }
   ],
   "source": [
    "# n_estimators=100\n",
    "# max_depth=5\n",
    "total_cost"
   ]
  },
  {
   "cell_type": "code",
   "execution_count": 91,
   "id": "156d60f4",
   "metadata": {},
   "outputs": [
    {
     "data": {
      "text/plain": [
       "5037.81000000138"
      ]
     },
     "execution_count": 91,
     "metadata": {},
     "output_type": "execute_result"
    }
   ],
   "source": [
    "# n_estimators=100\n",
    "# max_depth=10\n",
    "# boosted\n",
    "total_cost"
   ]
  },
  {
   "cell_type": "code",
   "execution_count": 54,
   "id": "b1a14f52",
   "metadata": {},
   "outputs": [
    {
     "data": {
      "text/plain": [
       "5063.770000001338"
      ]
     },
     "execution_count": 54,
     "metadata": {},
     "output_type": "execute_result"
    }
   ],
   "source": [
    "# n_estimators=100\n",
    "# max_depth=10\n",
    "# min_samples_split=10\n",
    "total_cost"
   ]
  },
  {
   "cell_type": "code",
   "execution_count": 60,
   "id": "c2048a25",
   "metadata": {},
   "outputs": [
    {
     "data": {
      "text/plain": [
       "5063.770000001338"
      ]
     },
     "execution_count": 60,
     "metadata": {},
     "output_type": "execute_result"
    }
   ],
   "source": [
    "# n_estimators=100\n",
    "# max_depth=10\n",
    "# min_samples_split=15\n",
    "total_cost"
   ]
  },
  {
   "cell_type": "code",
   "execution_count": null,
   "id": "22aefea6",
   "metadata": {},
   "outputs": [],
   "source": [
    "# n_estimators=200\n",
    "total_cost"
   ]
  },
  {
   "cell_type": "code",
   "execution_count": null,
   "id": "ac8877f3",
   "metadata": {},
   "outputs": [],
   "source": [
    "# n_estimators=200\n",
    "# max_depth=10\n",
    "# min_samples_split=15\n",
    "total_cost"
   ]
  },
  {
   "cell_type": "code",
   "execution_count": null,
   "id": "5ecd9dce",
   "metadata": {},
   "outputs": [],
   "source": [
    "# n_estimators=300\n",
    "# max_depth=10\n",
    "# min_samples_split=15\n",
    "total_cost"
   ]
  },
  {
   "cell_type": "code",
   "execution_count": null,
   "id": "32362cdf",
   "metadata": {},
   "outputs": [],
   "source": [
    "# n_estimators=300\n",
    "# max_depth=10\n",
    "total_cost"
   ]
  },
  {
   "cell_type": "code",
   "execution_count": 78,
   "id": "eb67badc",
   "metadata": {},
   "outputs": [],
   "source": [
    "sub_df = evaluate_and_create_submission_file(gbrd_features, gbrf_model)"
   ]
  },
  {
   "cell_type": "code",
   "execution_count": 79,
   "id": "79428665",
   "metadata": {},
   "outputs": [],
   "source": [
    "sub_df.to_csv('submission_test4.csv', index=False, header=False)"
   ]
  },
  {
   "cell_type": "code",
   "execution_count": null,
   "id": "63aa448d",
   "metadata": {},
   "outputs": [],
   "source": []
  }
 ],
 "metadata": {
  "kernelspec": {
   "display_name": "Python 3 (ipykernel)",
   "language": "python",
   "name": "python3"
  },
  "language_info": {
   "codemirror_mode": {
    "name": "ipython",
    "version": 3
   },
   "file_extension": ".py",
   "mimetype": "text/x-python",
   "name": "python",
   "nbconvert_exporter": "python",
   "pygments_lexer": "ipython3",
   "version": "3.9.16"
  }
 },
 "nbformat": 4,
 "nbformat_minor": 5
}
