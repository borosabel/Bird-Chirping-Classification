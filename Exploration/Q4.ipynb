{
 "cells": [
  {
   "cell_type": "code",
   "execution_count": 3,
   "id": "f84792ec",
   "metadata": {},
   "outputs": [],
   "source": [
    "import numpy as np\n",
    "import pandas as pd\n",
    "import seaborn as sns\n",
    "import matplotlib.pyplot as plt\n",
    "import os"
   ]
  },
  {
   "cell_type": "code",
   "execution_count": 4,
   "id": "4080d35a",
   "metadata": {},
   "outputs": [],
   "source": [
    "def get_all_files(directory_path):\n",
    "    # Get a list of all the files in the directory\n",
    "    file_names = os.listdir(directory_path)\n",
    "    file_paths = [os.path.join(directory_path, file_name) for file_name in file_names if '.labels' not in file_name]\n",
    "    file_paths = [file_path for file_path in file_paths if os.path.isfile(file_path)]\n",
    "    return file_paths"
   ]
  },
  {
   "cell_type": "code",
   "execution_count": 21,
   "id": "b204c71a",
   "metadata": {},
   "outputs": [],
   "source": [
    "def get_all_labels(directory_path):\n",
    "    # Get a list of all the files in the directory\n",
    "    file_names = os.listdir(directory_path)\n",
    "    file_paths = [os.path.join(directory_path, file_name) for file_name in file_names if '.labels' in file_name]\n",
    "    file_paths = [file_path for file_path in file_paths if os.path.isfile(file_path)]\n",
    "    return file_paths"
   ]
  },
  {
   "cell_type": "code",
   "execution_count": 78,
   "id": "f94b5d38",
   "metadata": {},
   "outputs": [
    {
     "name": "stdout",
     "output_type": "stream",
     "text": [
      "Current dir: cowpig1\n",
      "Best correlated features:\n",
      " ['raw_contrast_mean_3', 'raw_melspect_mean_6', 'cln_melspect_mean_6', 'cln_contrast_mean_3', 'cln_melspect_mean_5']\n",
      "\n",
      "\n",
      "Current dir: eueowl1\n",
      "Best correlated features:\n",
      " ['cln_contrast_mean_3', 'cln_flatness_mean', 'raw_contrast_mean_3', 'cln_melspect_mean_4', 'cln_melspect_mean_5']\n",
      "\n",
      "\n",
      "Current dir: tawowl1\n",
      "Best correlated features:\n",
      " ['cln_flatness_mean', 'cln_contrast_mean_4', 'cln_contrast_mean_5', 'raw_contrast_mean_4', 'cln_centroid_mean']\n",
      "\n",
      "\n",
      "Current dir: eucdov\n",
      "Best correlated features:\n",
      " ['raw_contrast_mean_3', 'cln_contrast_mean_3', 'cln_melspect_mean_7', 'raw_melspect_mean_7', 'cln_melspect_mean_6']\n",
      "\n",
      "\n",
      "Current dir: grswoo\n",
      "Best correlated features:\n",
      " ['raw_mfcc_std_0', 'raw_mfcc_d2_std_0', 'raw_mfcc_d_std_0', 'raw_melspect_std_33', 'raw_melspect_std_32']\n",
      "\n",
      "\n",
      "Current dir: comcuc\n",
      "Best correlated features:\n",
      " ['cln_contrast_mean_3', 'cln_melspect_mean_9', 'raw_melspect_std_8', 'cln_melspect_std_8', 'raw_contrast_std_3']\n",
      "\n",
      "\n"
     ]
    }
   ],
   "source": [
    "# Get the current directory path\n",
    "root_dir = os.getcwd() + \"/python\"\n",
    "feature_names = np.loadtxt(\"/Users/borosabel/Documents/Uni/ML&Pattern Classification/UE/ML-PatterClassification/feature_names.txt\", dtype=str).T\n",
    "\n",
    "file_paths = []\n",
    "label_file_paths = []\n",
    "# directories = ['cowpig1']\n",
    "directories = ['cowpig1', 'eueowl1', 'tawowl1', 'eucdov', 'grswoo', 'comcuc']\n",
    "# labels = {'cowpig1':2, 'eueowl1':4, 'tawowl1':6, 'eucdov':3, 'grswoo':5, 'comcuc':1, 'other':0}\n",
    "\n",
    "for dir_ in directories:\n",
    "    current_dir = root_dir + '/' + dir_\n",
    "    file_paths = get_all_files(current_dir)\n",
    "    label_file_paths = get_all_labels(current_dir)\n",
    "    print(\"Current dir:\", dir_)\n",
    "    \n",
    "    all_files_in_dir = np.empty((0, 548))\n",
    "    all_labels_in_dir = np.empty((0, 1))\n",
    "    \n",
    "    for file in file_paths:\n",
    "        label_file = current_dir + '/' + file.split('/')[-1][:-4] + '.labels.npy'\n",
    "        data = np.load(file)\n",
    "        labels = np.load(label_file)\n",
    "        all_files_in_dir = np.concatenate((all_files_in_dir, data))\n",
    "        all_labels_in_dir = np.concatenate((all_labels_in_dir, labels[:, :1]))\n",
    "      \n",
    "    X = pd.DataFrame(all_files_in_dir, columns = feature_names)\n",
    "    y = pd.DataFrame(all_labels_in_dir, columns=[\"label\"])\n",
    "    \n",
    "    correlations = X.corrwith(y['label'])\n",
    "    correlations = correlations.abs().sort_values(ascending=False)\n",
    "\n",
    "    # Select top k correlated features\n",
    "    k = 5\n",
    "    top_k_features = correlations.index[:k]\n",
    "    print(\"Best correlated features:\\n\", list(top_k_features))\n",
    "    print('\\n')\n",
    "    "
   ]
  },
  {
   "cell_type": "code",
   "execution_count": null,
   "id": "fb7d5d1c",
   "metadata": {},
   "outputs": [],
   "source": []
  }
 ],
 "metadata": {
  "kernelspec": {
   "display_name": "Python 3 (ipykernel)",
   "language": "python",
   "name": "python3"
  },
  "language_info": {
   "codemirror_mode": {
    "name": "ipython",
    "version": 3
   },
   "file_extension": ".py",
   "mimetype": "text/x-python",
   "name": "python",
   "nbconvert_exporter": "python",
   "pygments_lexer": "ipython3",
   "version": "3.9.16"
  }
 },
 "nbformat": 4,
 "nbformat_minor": 5
}
