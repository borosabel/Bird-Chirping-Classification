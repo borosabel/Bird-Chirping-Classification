{
 "cells": [
  {
   "cell_type": "code",
   "execution_count": 32,
   "id": "25bde224",
   "metadata": {
    "ExecuteTime": {
     "end_time": "2024-03-11T18:34:27.599964Z",
     "start_time": "2024-03-11T18:34:27.593941Z"
    }
   },
   "outputs": [],
   "source": [
    "import numpy as np\n",
    "import pandas as pd\n",
    "import seaborn as sns\n",
    "import matplotlib.pyplot as plt\n",
    "import os\n",
    "import statsmodels\n",
    "from statsmodels.stats.inter_rater import fleiss_kappa\n",
    "\n",
    "feature_names = np.loadtxt('/Users/borosabel/Documents/Uni/Projects/Bird-Chirping-Classification/Exploration/feature_names.txt', dtype=str).T\n",
    "root_dir = \"/Users/borosabel/Documents/Uni/Projects/Bird-Chirping-Classification/python\"\n",
    "labels = {'cowpig1':2, 'eueowl1':4, 'tawowl1':6, 'eucdov':3, 'grswoo':5, 'comcuc':1, 'other':0}\n",
    "directories = ['cowpig1', 'eueowl1', 'tawowl1', 'eucdov', 'grswoo', 'comcuc']\n",
    "\n",
    "sns.set_palette(\"Paired\")"
   ]
  },
  {
   "cell_type": "code",
   "execution_count": 29,
   "id": "6b615174",
   "metadata": {
    "ExecuteTime": {
     "end_time": "2024-03-11T18:33:45.476876Z",
     "start_time": "2024-03-11T18:33:45.474999Z"
    }
   },
   "outputs": [],
   "source": [
    "# Utility Functions\n",
    "def get_all_feature_files_path(directory_path):\n",
    "    # Get a list of all the feature files path in the directory\n",
    "    file_names = os.listdir(directory_path)\n",
    "    file_paths = [os.path.join(directory_path, file_name) for file_name in file_names if '.labels' not in file_name]\n",
    "    file_paths = [file_path for file_path in file_paths if os.path.isfile(file_path)]\n",
    "    return file_paths\n",
    "\n",
    "def get_all_label_files_path(directory_path):\n",
    "    # Get a list of all the label files path in the directory\n",
    "    file_names = os.listdir(directory_path)\n",
    "    file_paths = [os.path.join(directory_path, file_name) for file_name in file_names if '.labels' in file_name]\n",
    "    file_paths = [file_path for file_path in file_paths if os.path.isfile(file_path)]\n",
    "    return file_paths\n",
    "\n",
    "def get_all_files_from_all_dir():\n",
    "    cowpig_data, cowpig_label = get_all_files_from_dir(['cowpig1'])\n",
    "    eueowl1_data, eueowl1_label = get_all_files_from_dir(['eueowl1'])\n",
    "    tawowl1_data, tawowl1_label = get_all_files_from_dir(['tawowl1'])\n",
    "    eucdov_data, eucdov_label = get_all_files_from_dir(['eucdov'])\n",
    "    grswoo_data, grswoo_label = get_all_files_from_dir(['grswoo'])\n",
    "    comcuc_data, comcuc_label = get_all_files_from_dir(['comcuc'])\n",
    "\n",
    "    all_data = np.concatenate((cowpig_data, eueowl1_data, tawowl1_data, eucdov_data, grswoo_data, comcuc_data))\n",
    "    all_labels = np.concatenate((cowpig_label, eueowl1_label, tawowl1_label, eucdov_label, grswoo_label, comcuc_label))\n",
    "\n",
    "    return all_data, all_labels\n",
    "\n",
    "def get_all_files_from_dir(directory):\n",
    "    # Get the current directory path\n",
    "\n",
    "    feature_file_paths = []\n",
    "    label_file_paths = []\n",
    "    for dir_ in directory:\n",
    "        current_dir = root_dir + '/' + dir_\n",
    "        feature_file_paths = get_all_feature_files_path(current_dir)\n",
    "        label_file_paths = get_all_label_files_path(current_dir)\n",
    "        all_files_in_dir = np.empty((0, 548))\n",
    "        all_labels_in_dir = np.empty((0, 1))\n",
    "\n",
    "        for file in feature_file_paths:\n",
    "            label_file = current_dir + '/' + file.split('/')[-1][:-4] + '.labels.npy'\n",
    "            data = np.load(file)\n",
    "            labels = np.load(label_file)\n",
    "            all_files_in_dir = np.concatenate((all_files_in_dir, data))\n",
    "            all_labels_in_dir = np.concatenate((all_labels_in_dir, labels[:, :1]))\n",
    "\n",
    "        X = pd.DataFrame(all_files_in_dir, columns = feature_names)\n",
    "        y = pd.DataFrame(all_labels_in_dir, columns=[\"label\"])\n",
    "\n",
    "    return X, y\n",
    "\n",
    "def percentage_agreement(annotations):\n",
    "    \"\"\"\n",
    "    This function calculates the percentage of cases when all the annotators agreed on the same label.\n",
    "    \"\"\"\n",
    "    annotations = annotations[:,1:] #Cut out the majority vote\n",
    "    total_cases = annotations.shape[0]\n",
    "    matching_cases = np.sum(np.all(annotations == annotations[:,[0]], axis=1))\n",
    "    percentage_agreement = matching_cases / total_cases * 100\n",
    "    return percentage_agreement\n",
    "\n",
    "def process_annotations(annotations):\n",
    "    num_annotators = annotations.shape[1]\n",
    "    num_items = annotations.shape[0]\n",
    "    num_labels = 2\n",
    "    M = np.zeros((num_items, num_labels))\n",
    "\n",
    "    for i in range(num_items):\n",
    "        for j in range(num_annotators):\n",
    "            annotation = 0 if annotations[i, j] else 1\n",
    "            M[i, annotation] += 1\n",
    "\n",
    "    return M"
   ]
  },
  {
   "cell_type": "code",
   "execution_count": 30,
   "id": "58f31c16",
   "metadata": {
    "ExecuteTime": {
     "end_time": "2024-03-11T18:33:56.564060Z",
     "start_time": "2024-03-11T18:33:47.845865Z"
    }
   },
   "outputs": [],
   "source": [
    "features, labels = get_all_files_from_all_dir()"
   ]
  },
  {
   "cell_type": "code",
   "execution_count": 40,
   "id": "3060ea9b",
   "metadata": {
    "ExecuteTime": {
     "end_time": "2024-03-11T18:34:55.601446Z",
     "start_time": "2024-03-11T18:34:55.254546Z"
    }
   },
   "outputs": [
    {
     "name": "stdout",
     "output_type": "stream",
     "text": [
      "Disagreement in the class of cowpig1:\n",
      "0.6395502372966964\n",
      "Disagreement in the class of eueowl1:\n",
      "0.7010410610157463\n",
      "Disagreement in the class of tawowl1:\n",
      "0.6392568109460958\n",
      "Disagreement in the class of eucdov:\n"
     ]
    },
    {
     "name": "stderr",
     "output_type": "stream",
     "text": [
      "/Users/borosabel/lib/python3.9/site-packages/statsmodels/stats/inter_rater.py:267: RuntimeWarning: invalid value encountered in scalar divide\n",
      "  kappa = (p_mean - p_mean_exp) / (1- p_mean_exp)\n"
     ]
    },
    {
     "name": "stdout",
     "output_type": "stream",
     "text": [
      "0.6464010951488387\n",
      "Disagreement in the class of grswoo:\n",
      "0.47677523731525084\n",
      "Disagreement in the class of comcuc:\n",
      "0.6700002766329005\n"
     ]
    }
   ],
   "source": [
    "file_paths_labels = []\n",
    "file_paths = []\n",
    "directories = ['cowpig1', 'eueowl1', 'tawowl1', 'eucdov', 'grswoo', 'comcuc']\n",
    "labels = {'cowpig1':2, 'eueowl1':4, 'tawowl1':6, 'eucdov':3, 'grswoo':5, 'comcuc':1, 'other':0}\n",
    "agreement_percentages = []\n",
    "\n",
    "for dir_ in directories:\n",
    "    current_dir = root_dir + '/' + dir_\n",
    "    print(\"Disagreement in the class of \" + dir_ + \":\")\n",
    "    file_paths = get_all_label_files_path(current_dir)\n",
    "    \n",
    "    agreement_numbers = []\n",
    "    for file in file_paths:\n",
    "        data = np.load(file)\n",
    "        # Cut the aggregated label\n",
    "        data = data[:, 1:]\n",
    "        M = process_annotations(data)\n",
    "        agreement = fleiss_kappa(M)\n",
    "#         agreement = percentage_agreement(data[:, 1:])\n",
    "        if(not np.isnan(agreement)):\n",
    "            agreement_numbers.append(agreement)\n",
    "        \n",
    "    agreement_percentages.append(sum(agreement_numbers) / len(agreement_numbers))\n",
    "    print(sum(agreement_numbers) / len(agreement_numbers))"
   ]
  },
  {
   "cell_type": "code",
   "execution_count": 41,
   "id": "0a08d6ca",
   "metadata": {
    "ExecuteTime": {
     "end_time": "2024-03-11T18:34:56.483582Z",
     "start_time": "2024-03-11T18:34:56.479955Z"
    }
   },
   "outputs": [],
   "source": [
    "agreement_percentages.append(sum(agreement_percentages) / len(agreement_percentages))"
   ]
  },
  {
   "cell_type": "code",
   "execution_count": 42,
   "id": "05ab8a4b",
   "metadata": {
    "ExecuteTime": {
     "end_time": "2024-03-11T18:34:56.926231Z",
     "start_time": "2024-03-11T18:34:56.923063Z"
    }
   },
   "outputs": [],
   "source": [
    "directories = ['cowpig1', 'eueowl1', 'tawowl1', 'eucdov', 'grswoo', 'comcuc', 'overall']"
   ]
  },
  {
   "cell_type": "code",
   "execution_count": 43,
   "id": "cc09ad4b",
   "metadata": {
    "ExecuteTime": {
     "end_time": "2024-03-11T18:34:57.545257Z",
     "start_time": "2024-03-11T18:34:57.358171Z"
    }
   },
   "outputs": [
    {
     "data": {
      "text/plain": "<Figure size 640x480 with 1 Axes>",
      "image/png": "[encoded data removed]"
     },
     "metadata": {},
     "output_type": "display_data"
    }
   ],
   "source": [
    "sns.barplot(x=directories, y=agreement_percentages, hue=directories)\n",
    "plt.title(\"Mean Percentage of Agreement by categories\")\n",
    "plt.xlabel(\"Bird label\")\n",
    "plt.ylabel(\"Measure of Agreement\")\n",
    "plt.show()"
   ]
  },
  {
   "cell_type": "markdown",
   "id": "967af4b6",
   "metadata": {},
   "source": [
    "So based on this evaluation table: https://miro.medium.com/v2/resize:fit:720/format:webp/1*mHB6Ciljb4OnOacNWgc0aw.png![image.png](attachment:image.png)"
   ]
  },
  {
   "cell_type": "markdown",
   "source": [],
   "metadata": {
    "collapsed": false
   },
   "id": "b7f109a1a5cf96d4"
  },
  {
   "cell_type": "code",
   "execution_count": null,
   "id": "bd9a2f15",
   "metadata": {},
   "outputs": [],
   "source": []
  }
 ],
 "metadata": {
  "kernelspec": {
   "display_name": "Python 3 (ipykernel)",
   "language": "python",
   "name": "python3"
  },
  "language_info": {
   "codemirror_mode": {
    "name": "ipython",
    "version": 3
   },
   "file_extension": ".py",
   "mimetype": "text/x-python",
   "name": "python",
   "nbconvert_exporter": "python",
   "pygments_lexer": "ipython3",
   "version": "3.11.4"
  }
 },
 "nbformat": 4,
 "nbformat_minor": 5
}
