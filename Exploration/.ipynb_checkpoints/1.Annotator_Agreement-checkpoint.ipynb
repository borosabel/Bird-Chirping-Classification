{
 "cells": [
  {
   "cell_type": "code",
   "execution_count": 1,
   "id": "25bde224",
   "metadata": {},
   "outputs": [],
   "source": [
    "import numpy as np\n",
    "import pandas as pd\n",
    "import seaborn as sns\n",
    "import matplotlib.pyplot as plt\n",
    "import os\n",
    "import statsmodels\n",
    "from statsmodels.stats.inter_rater import fleiss_kappa"
   ]
  },
  {
   "cell_type": "code",
   "execution_count": 6,
   "id": "bc75a6e3",
   "metadata": {},
   "outputs": [],
   "source": [
    "def get_all_files(directory_path):\n",
    "    # Get a list of all the files in the directory\n",
    "    file_names = os.listdir(directory_path)\n",
    "    file_paths = [os.path.join(directory_path, file_name) for file_name in file_names if '.labels' in file_name]\n",
    "    file_paths = [file_path for file_path in file_paths if os.path.isfile(file_path)]\n",
    "    return file_paths"
   ]
  },
  {
   "cell_type": "code",
   "execution_count": 7,
   "id": "c2f87cc9",
   "metadata": {},
   "outputs": [],
   "source": [
    "def percentage_agreement(annotations):\n",
    "    \"\"\"\n",
    "    This function calculates the percentage of cases when all the annotators agreed on the same label.\n",
    "    \"\"\"\n",
    "    annotations = annotations[:,1:] #Cut out the majority vote\n",
    "    total_cases = annotations.shape[0]\n",
    "    matching_cases = np.sum(np.all(annotations == annotations[:,[0]], axis=1))\n",
    "    percentage_agreement = matching_cases / total_cases * 100\n",
    "    return percentage_agreement"
   ]
  },
  {
   "cell_type": "code",
   "execution_count": 8,
   "id": "b8709093",
   "metadata": {},
   "outputs": [],
   "source": [
    "def process_annotations(annotations):\n",
    "    num_annotators = annotations.shape[1]\n",
    "    num_items = annotations.shape[0]\n",
    "    num_labels = 2\n",
    "    M = np.zeros((num_items, num_labels))\n",
    "    \n",
    "    for i in range(num_items):\n",
    "        for j in range(num_annotators):\n",
    "            annotation = 1 if annotations[i, j] else 0\n",
    "            M[i, annotation] += 1\n",
    "            \n",
    "    return M"
   ]
  },
  {
   "cell_type": "code",
   "execution_count": 27,
   "id": "5127aee7",
   "metadata": {},
   "outputs": [],
   "source": [
    "# def fleiss_kappa1(annotations):\n",
    "#     \"\"\"Computes Fleiss' kappa for group of annotators.\n",
    "#     :param M: a matrix of shape (:attr:'N', :attr:'k') with 'N' = number of subjects and 'k' = the number of categories.\n",
    "#         'M[i, j]' represent the number of raters who assigned the 'i'th subject to the 'j'th category.\n",
    "#     :type: numpy matrix\n",
    "#     :rtype: float\n",
    "#     :return: Fleiss' kappa score\n",
    "#     \"\"\"    \n",
    "#     N, k = M.shape  # N is # of items, k is # of categories\n",
    "#     n_annotators = float(np.sum(M[0, :]))  # # of annotators\n",
    "#     tot_annotations = N * n_annotators  # the total # of annotations\n",
    "#     category_sum = np.sum(M, axis=0)  # the sum of each category over all items\n",
    "\n",
    "#     # chance agreement\n",
    "#     p = category_sum / tot_annotations  # the distribution of each category over all annotations\n",
    "#     PbarE = np.sum(p * p)  # average chance agreement over all categories\n",
    "\n",
    "#     # observed agreement\n",
    "#     P = (np.sum(M * M, axis=1) - n_annotators) / (n_annotators * (n_annotators - 1))\n",
    "#     Pbar = np.sum(P) / N  # add all observed agreement chances per item and divide by amount of items\n",
    "\n",
    "#     return round((Pbar - PbarE) / (1 - PbarE), 4)"
   ]
  },
  {
   "cell_type": "code",
   "execution_count": 14,
   "id": "5fb66fe0",
   "metadata": {},
   "outputs": [],
   "source": [
    "# def fleiss_kappa(annotations, labels):\n",
    "#     \"\"\"Computes Fleiss' kappa for group of annotators.\n",
    "#     :param M: a matrix of shape (:attr:'N', :attr:'k') with 'N' = number of subjects and 'k' = the number of categories.\n",
    "#         'M[i, j]' represent the number of raters who assigned the 'i'th subject to the 'j'th category.\n",
    "#     :type: numpy matrix\n",
    "#     :rtype: float\n",
    "#     :return: Fleiss' kappa score\n",
    "#     \"\"\"\n",
    "#     num_annotators = annotations.shape[1]\n",
    "#     num_items = annotations.shape[0]\n",
    "#     num_labels = 2\n",
    "#     label_counts = np.zeros((num_items, num_labels))\n",
    "    \n",
    "#     for i in range(num_items):\n",
    "#         for j in range(num_annotators):\n",
    "#             annotation = 1 if annotations[i, j] else 0\n",
    "#             label_counts[i, annotation] += 1\n",
    "            \n",
    "#     p_i = np.sum(label_counts * (label_counts - 1), axis=1) / (num_annotators * (num_annotators - 1))\n",
    "#     p_bar_j = np.sum(label_counts, axis=0) / (num_items * num_annotators)\n",
    "\n",
    "#     P_e = np.sum(p_bar_j**2)\n",
    "#     P_i = np.mean(p_i)\n",
    "\n",
    "#     return ((P_i - P_e) / (1 - P_e))"
   ]
  },
  {
   "cell_type": "code",
   "execution_count": 38,
   "id": "3060ea9b",
   "metadata": {
    "scrolled": false
   },
   "outputs": [
    {
     "name": "stdout",
     "output_type": "stream",
     "text": [
      "Disagreement in the class of cowpig1:\n"
     ]
    },
    {
     "name": "stderr",
     "output_type": "stream",
     "text": [
      "/Users/borosabel/opt/anaconda3/lib/python3.7/site-packages/statsmodels/stats/inter_rater.py:264: RuntimeWarning: invalid value encountered in double_scalars\n",
      "  kappa = (p_mean - p_mean_exp) / (1- p_mean_exp)\n"
     ]
    },
    {
     "name": "stdout",
     "output_type": "stream",
     "text": [
      "0.6395502372966964\n",
      "Disagreement in the class of eueowl1:\n",
      "0.7010410610157463\n",
      "Disagreement in the class of tawowl1:\n",
      "0.6392568109460958\n",
      "Disagreement in the class of eucdov:\n",
      "0.6464010951488387\n",
      "Disagreement in the class of grswoo:\n",
      "0.47677523731525084\n",
      "Disagreement in the class of comcuc:\n",
      "0.6700002766329005\n"
     ]
    }
   ],
   "source": [
    "# Get the current directory path\n",
    "root_dir = os.getcwd() + \"/python\"\n",
    "\n",
    "file_paths_labels = []\n",
    "file_paths = []\n",
    "# directories = ['cowpig1']\n",
    "directories = ['cowpig1', 'eueowl1', 'tawowl1', 'eucdov', 'grswoo', 'comcuc']\n",
    "labels = {'cowpig1':2, 'eueowl1':4, 'tawowl1':6, 'eucdov':3, 'grswoo':5, 'comcuc':1, 'other':0}\n",
    "agreement_percentages = []\n",
    "\n",
    "for dir_ in directories:\n",
    "    current_dir = root_dir + '/' + dir_\n",
    "    print(\"Disagreement in the class of \" + dir_ + \":\")\n",
    "    file_paths = get_all_files(current_dir)\n",
    "    \n",
    "    agreement_numbers = []\n",
    "    for file in file_paths:\n",
    "        data = np.load(file)\n",
    "        # Cut the aggregated label\n",
    "        data = data[:, 1:]\n",
    "        M = process_annotations(data)\n",
    "        agreement = fleiss_kappa(M)\n",
    "#         agreement = percentage_agreement(data[:, 1:])\n",
    "        if(not np.isnan(agreement)):\n",
    "            agreement_numbers.append(agreement)\n",
    "        \n",
    "    agreement_percentages.append(sum(agreement_numbers) / len(agreement_numbers))\n",
    "    print(sum(agreement_numbers) / len(agreement_numbers))"
   ]
  },
  {
   "cell_type": "code",
   "execution_count": 39,
   "id": "0a08d6ca",
   "metadata": {},
   "outputs": [
    {
     "name": "stdout",
     "output_type": "stream",
     "text": [
      "[0.6395502372966964, 0.7010410610157463, 0.6392568109460958, 0.6464010951488387, 0.47677523731525084, 0.6700002766329005, 0.6288374530592548]\n"
     ]
    }
   ],
   "source": [
    "agreement_percentages.append(sum(agreement_percentages) / len(agreement_percentages))\n",
    "print(agreement_percentages)"
   ]
  },
  {
   "cell_type": "code",
   "execution_count": 40,
   "id": "05ab8a4b",
   "metadata": {},
   "outputs": [],
   "source": [
    "directories = ['cowpig1', 'eueowl1', 'tawowl1', 'eucdov', 'grswoo', 'comcuc', 'overall']"
   ]
  },
  {
   "cell_type": "code",
   "execution_count": 41,
   "id": "cc09ad4b",
   "metadata": {},
   "outputs": [
    {
     "data": {
      "image/png": "[encoded data removed]",
      "text/plain": [
       "<Figure size 640x480 with 1 Axes>"
      ]
     },
     "metadata": {},
     "output_type": "display_data"
    }
   ],
   "source": [
    "sns.barplot(x=directories, y=agreement_percentages)\n",
    "plt.title(\"Mean Percentage of Agreement by categories\")\n",
    "plt.xlabel(\"Bird label\")\n",
    "plt.ylabel(\"Measure of Agreement\")\n",
    "plt.show()"
   ]
  },
  {
   "cell_type": "markdown",
   "id": "967af4b6",
   "metadata": {},
   "source": [
    "So based on this evaluation table: https://miro.medium.com/v2/resize:fit:720/format:webp/1*mHB6Ciljb4OnOacNWgc0aw.png![image.png](attachment:image.png)"
   ]
  },
  {
   "cell_type": "code",
   "execution_count": null,
   "id": "bd9a2f15",
   "metadata": {},
   "outputs": [],
   "source": []
  }
 ],
 "metadata": {
  "kernelspec": {
   "display_name": "Python 3 (ipykernel)",
   "language": "python",
   "name": "python3"
  },
  "language_info": {
   "codemirror_mode": {
    "name": "ipython",
    "version": 3
   },
   "file_extension": ".py",
   "mimetype": "text/x-python",
   "name": "python",
   "nbconvert_exporter": "python",
   "pygments_lexer": "ipython3",
   "version": "3.9.16"
  }
 },
 "nbformat": 4,
 "nbformat_minor": 5
}
